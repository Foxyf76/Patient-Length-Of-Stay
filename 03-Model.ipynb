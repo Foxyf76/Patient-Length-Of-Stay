{
 "cells": [
  {
   "cell_type": "markdown",
   "metadata": {
    "Collapsed": "false"
   },
   "source": [
    "# Texas Hospital Discharge - Model"
   ]
  },
  {
   "cell_type": "code",
   "execution_count": 7,
   "metadata": {
    "Collapsed": "false"
   },
   "outputs": [],
   "source": [
    "import pandas as pd\n",
    "import numpy as np\n",
    "import matplotlib.pyplot as plt\n",
    "import matplotlib\n",
    "\n",
    "import seaborn as sns\n",
    "sns.set_style(\"darkgrid\")\n",
    "\n",
    "from IPython.display import display, Markdown\n",
    "pd.set_option('display.max_columns', None)  \n",
    "\n",
    "import glob, os\n",
    "\n",
    "HYPER_TUNING = False\n",
    "DEBUG = False\n",
    "SEED = 42"
   ]
  },
  {
   "cell_type": "code",
   "execution_count": 8,
   "metadata": {
    "Collapsed": "false"
   },
   "outputs": [
    {
     "name": "stdout",
     "output_type": "stream",
     "text": [
      "The autoreload extension is already loaded. To reload it, use:\n",
      "  %reload_ext autoreload\n"
     ]
    }
   ],
   "source": [
    "%load_ext autoreload\n",
    "%autoreload 2\n",
    "\n",
    "import my_lib"
   ]
  },
  {
   "cell_type": "code",
   "execution_count": 9,
   "metadata": {},
   "outputs": [
    {
     "data": {
      "text/plain": [
       "(49984, 195)"
      ]
     },
     "execution_count": 9,
     "metadata": {},
     "output_type": "execute_result"
    }
   ],
   "source": [
    "df_patients = pd.read_csv(\"data/df_train_sample_01_of_20.csv\", dtype=str)\n",
    "df_patients.shape"
   ]
  },
  {
   "cell_type": "code",
   "execution_count": 10,
   "metadata": {},
   "outputs": [
    {
     "data": {
      "text/plain": [
       "(606, 10)"
      ]
     },
     "execution_count": 10,
     "metadata": {},
     "output_type": "execute_result"
    }
   ],
   "source": [
    "df_facility = pd.read_csv(\"data/facility.csv\", dtype = str)\n",
    "df_facility.shape"
   ]
  },
  {
   "cell_type": "code",
   "execution_count": 11,
   "metadata": {},
   "outputs": [
    {
     "data": {
      "text/plain": [
       "(49984, 204)"
      ]
     },
     "execution_count": 11,
     "metadata": {},
     "output_type": "execute_result"
    }
   ],
   "source": [
    "df = pd.merge(df_patients, df_facility, on=\"THCIC_ID\", how=\"left\")\n",
    "df.shape"
   ]
  },
  {
   "cell_type": "code",
   "execution_count": 12,
   "metadata": {},
   "outputs": [],
   "source": [
    "df[\"FAC_UNKNOWN\"] = df.FAC_OTHER_LTC_IND.isnull().astype(int)"
   ]
  },
  {
   "cell_type": "code",
   "execution_count": 13,
   "metadata": {},
   "outputs": [],
   "source": [
    "for c in df.columns:\n",
    "    if c [:3]==\"FAC\":\n",
    "        df[c].fillna(0, inplace=True)"
   ]
  },
  {
   "cell_type": "markdown",
   "metadata": {},
   "source": [
    "## 1. Encode Target"
   ]
  },
  {
   "cell_type": "code",
   "execution_count": 14,
   "metadata": {},
   "outputs": [
    {
     "name": "stdout",
     "output_type": "stream",
     "text": [
      "{0: 'long', 1: 'medium', 2: 'short'}\n"
     ]
    },
    {
     "data": {
      "text/plain": [
       "<bound method NDFrame.head of 0        4\n",
       "1        1\n",
       "2        2\n",
       "3        1\n",
       "4        7\n",
       "        ..\n",
       "49979    4\n",
       "49980    5\n",
       "49981    2\n",
       "49982    4\n",
       "49983    1\n",
       "Name: ADMIT_WEEKDAY, Length: 49984, dtype: object>"
      ]
     },
     "execution_count": 14,
     "metadata": {},
     "output_type": "execute_result"
    }
   ],
   "source": [
    "from sklearn.preprocessing import LabelEncoder\n",
    "if df['TARGET'].dtype!=int:\n",
    "    le_target = LabelEncoder()\n",
    "    df['TARGET']= le_target.fit_transform(df['TARGET'])\n",
    "else:\n",
    "    pass\n",
    "\n",
    "target_labels = {c:le_target.inverse_transform([c])[0] for c in [0,1,2]}\n",
    "print(target_labels)\n",
    "\n",
    "df.ADMIT_WEEKDAY.head"
   ]
  },
  {
   "cell_type": "markdown",
   "metadata": {},
   "source": [
    "## 1.1 Applying Cleaned Cat. Features"
   ]
  },
  {
   "cell_type": "code",
   "execution_count": 15,
   "metadata": {},
   "outputs": [
    {
     "name": "stdout",
     "output_type": "stream",
     "text": [
      "Feature TYPE_OF_ADMISSION -> ['1' '3' '2' '4' '5' '9']\n",
      "Feature SOURCE_OF_ADMISSION -> ['1' '4' '5' '2' 'D' '6' '9' '8' '0']\n",
      "Feature PAT_STATE -> ['TX' 'ZZ' 'XX']\n",
      "Feature SEX_CODE -> ['U' 'F' 'M']\n",
      "Feature RACE -> ['5' '4' '3' '2' '1']\n",
      "Feature ETHNICITY -> ['1' '2' '3']\n"
     ]
    }
   ],
   "source": [
    "my_lib.clean_categories(df)"
   ]
  },
  {
   "cell_type": "markdown",
   "metadata": {},
   "source": [
    "## 1.2 Feature Engineering"
   ]
  },
  {
   "cell_type": "code",
   "execution_count": 17,
   "metadata": {},
   "outputs": [],
   "source": [
    "def feature_engineering(df):\n",
    "    \n",
    "    feature = \"ADMITTING_DIAGNOSIS_UNCHANGED\"\n",
    "    df[feature] = (df.ADMITTING_DIAGNOSIS==df.PRINC_DIAG_CODE) & (df.POA_PRINC_DIAG_CODE==\"Y\")\n",
    "    \n",
    "    feature = \"ADMITTING_DIAGNOSIS_CHANGED\"\n",
    "    df[feature] = (df.ADMITTING_DIAGNOSIS!=df.PRINC_DIAG_CODE) & (df.POA_PRINC_DIAG_CODE==\"Y\")\n",
    "        \n",
    "    # admitted on the weekend\n",
    "    feature = \"WEEKEND_ADMISSION\"\n",
    "    df[feature] = (df.ADMIT_WEEKDAY==\"6\") | (df.ADMIT_WEEKDAY==\"7\")\n",
    "    \n",
    "    # admitted during the week\n",
    "    feature = \"WEEK_ADMISSION\"\n",
    "    df[feature] = (df.ADMIT_WEEKDAY!=\"6\") & (df.ADMIT_WEEKDAY!=\"7\")\n",
    "    \n",
    "    # texas patients\n",
    "    feature = \"TEXAS_PATIENT\"\n",
    "    df[feature] = (df.PAT_STATE==\"TX\")\n",
    "    \n",
    "    # non-texan patients\n",
    "    feature = \"NON_TEXAS_PATIENT\"\n",
    "    df[feature] = (df.PAT_STATE!=\"TX\")\n",
    "    \n",
    "    ## FEATURES THAT DID NOT BENEFIT THE MODEL\n",
    "    \n",
    "    ## admitted via type 'urgent' or 'trauma center' should result in longer stays\n",
    "    # feature = \"SERIOUS_ADMISSION\"\n",
    "    # df[feature] = (df.TYPE_OF_ADMISSION==\"2\") | (df.TYPE_OF_ADMISSION==\"5\")\n",
    "    \n",
    "    ## admitted via type 'newborn' should result in shorter stays\n",
    "    # feature = \"MINOR_ADMISSION\"\n",
    "    # df[feature] = (df.TYPE_OF_ADMISSION==\"4\")\n",
    "    \n",
    "feature_engineering(df)"
   ]
  },
  {
   "cell_type": "markdown",
   "metadata": {},
   "source": [
    "## 1.3 Test-Train Split"
   ]
  },
  {
   "cell_type": "code",
   "execution_count": 18,
   "metadata": {},
   "outputs": [],
   "source": [
    "from sklearn.model_selection import train_test_split\n",
    "\n",
    "target = \"TARGET\"\n",
    "X = df.drop(target, axis=1)\n",
    "y = df[target]\n",
    "df_X_train, df_X_test, df_y_train, df_y_test = train_test_split(X, y, test_size=0.4, stratify=y, random_state=SEED)"
   ]
  },
  {
   "cell_type": "markdown",
   "metadata": {},
   "source": [
    "## 1.4 Encoding of Categorical Features"
   ]
  },
  {
   "cell_type": "markdown",
   "metadata": {},
   "source": [
    "### 1.4.1 Label Binarizer"
   ]
  },
  {
   "cell_type": "code",
   "execution_count": 19,
   "metadata": {},
   "outputs": [],
   "source": [
    "from sklearn.preprocessing import LabelBinarizer\n",
    "\n",
    "def encode_features(df_X_train, df_X_test, cat_LabelBinarize=[], bool_features=[], debug=False):\n",
    "    \n",
    "    # create dataframes to populate\n",
    "    df_X_train_model = df_X_train.loc[:, []]\n",
    "    df_X_test_model = df_X_test.loc[:, []]\n",
    "    \n",
    "    # encoding features using LabelBinarizer\n",
    "    for feature in cat_LabelBinarize:\n",
    "    \n",
    "        if debug: print(feature)\n",
    "            \n",
    "        # fit and transform on train -> fit decides what label goes to each category\n",
    "        lb = LabelBinarizer()\n",
    "        lb_results = lb.fit_transform(df_X_train[feature].astype(\"str\"))\n",
    "        names= [feature+\"_\"+l for l in lb.classes_]\n",
    "        \n",
    "        if debug: print(\"\\t\", names)\n",
    "            \n",
    "        for k, name in enumerate(names):\n",
    "            df_X_train_model[name] = lb_results[:, k]\n",
    "\n",
    "        # transform on test -> this transform uses the fit already stored\n",
    "        lb_results = lb.transform(df_X_test[feature].astype(\"str\"))\n",
    "        names= [feature+\"_\"+l for l in lb.classes_]\n",
    "        \n",
    "        for k, name in enumerate(names):\n",
    "            df_X_test_model[name] = lb_results[:, k]\n",
    "        \n",
    "    for feature in bool_features:\n",
    "        df_X_train_model[feature] = df_X_train[feature].astype(int)\n",
    "        df_X_test_model[feature] = df_X_test[feature].astype(int)\n",
    "    \n",
    "    return df_X_train_model, df_X_test_model\n",
    "\n",
    "cat_features = [\"TYPE_OF_ADMISSION\",\"SOURCE_OF_ADMISSION\",\"PAT_STATE\", \"SEX_CODE\", \"RACE\", \"ETHNICITY\", \"ADMIT_WEEKDAY\", \"PAT_AGE\", \"POA_PROVIDER_INDICATOR\"]\n",
    "bool_features = [\"ADMITTING_DIAGNOSIS_UNCHANGED\", \"ADMITTING_DIAGNOSIS_CHANGED\", \"WEEKEND_ADMISSION\", \"WEEK_ADMISSION\", \"TEXAS_PATIENT\", \"NON_TEXAS_PATIENT\"] + [c for c in df.columns if c[:3]==\"FAC\"]\n",
    "\n",
    "df_X_train_model, df_X_test_model = encode_features(df_X_train, df_X_test, cat_LabelBinarize=cat_features, bool_features=bool_features)"
   ]
  },
  {
   "cell_type": "code",
   "execution_count": 20,
   "metadata": {},
   "outputs": [
    {
     "data": {
      "text/plain": [
       "Index(['TYPE_OF_ADMISSION_1', 'TYPE_OF_ADMISSION_2', 'TYPE_OF_ADMISSION_3',\n",
       "       'TYPE_OF_ADMISSION_4', 'TYPE_OF_ADMISSION_5', 'TYPE_OF_ADMISSION_9',\n",
       "       'SOURCE_OF_ADMISSION_1', 'SOURCE_OF_ADMISSION_2',\n",
       "       'SOURCE_OF_ADMISSION_4', 'SOURCE_OF_ADMISSION_5',\n",
       "       'SOURCE_OF_ADMISSION_6', 'SOURCE_OF_ADMISSION_8',\n",
       "       'SOURCE_OF_ADMISSION_9', 'SOURCE_OF_ADMISSION_D', 'PAT_STATE_TX',\n",
       "       'PAT_STATE_XX', 'PAT_STATE_ZZ', 'SEX_CODE_F', 'SEX_CODE_M',\n",
       "       'SEX_CODE_U', 'RACE_1', 'RACE_2', 'RACE_3', 'RACE_4', 'RACE_5',\n",
       "       'ETHNICITY_1', 'ETHNICITY_2', 'ETHNICITY_3', 'ADMIT_WEEKDAY_1',\n",
       "       'ADMIT_WEEKDAY_2', 'ADMIT_WEEKDAY_3', 'ADMIT_WEEKDAY_4',\n",
       "       'ADMIT_WEEKDAY_5', 'ADMIT_WEEKDAY_6', 'ADMIT_WEEKDAY_7', 'PAT_AGE_0',\n",
       "       'PAT_AGE_0-17 (HIV & D/A)', 'PAT_AGE_1-9', 'PAT_AGE_10-19',\n",
       "       'PAT_AGE_18-44 (HIV & D/A)', 'PAT_AGE_20-29', 'PAT_AGE_30-39',\n",
       "       'PAT_AGE_40-49', 'PAT_AGE_45-64 (HIV & D/A)', 'PAT_AGE_50-59',\n",
       "       'PAT_AGE_60-69', 'PAT_AGE_65-74 (HIV & D/A)', 'PAT_AGE_70-79',\n",
       "       'PAT_AGE_75+ (HIV & D/A)', 'PAT_AGE_80-89', 'PAT_AGE_90+',\n",
       "       'POA_PROVIDER_INDICATOR_M', 'POA_PROVIDER_INDICATOR_R',\n",
       "       'POA_PROVIDER_INDICATOR_X', 'ADMITTING_DIAGNOSIS_UNCHANGED',\n",
       "       'ADMITTING_DIAGNOSIS_CHANGED', 'WEEKEND_ADMISSION', 'WEEK_ADMISSION',\n",
       "       'TEXAS_PATIENT', 'NON_TEXAS_PATIENT', 'FAC_TEACHING_IND',\n",
       "       'FAC_PSYCH_IND', 'FAC_REHAB_IND', 'FAC_ACUTE_CARE_IND', 'FAC_SNF_IND',\n",
       "       'FAC_LONG_TERM_AC_IND', 'FAC_OTHER_LTC_IND', 'FAC_PEDS_IND',\n",
       "       'FAC_UNKNOWN'],\n",
       "      dtype='object')"
      ]
     },
     "execution_count": 20,
     "metadata": {},
     "output_type": "execute_result"
    }
   ],
   "source": [
    "df_X_train_model.columns"
   ]
  },
  {
   "cell_type": "code",
   "execution_count": 120,
   "metadata": {},
   "outputs": [],
   "source": [
    "# df_X_train_model.drop(columns=features, inplace=True)"
   ]
  },
  {
   "cell_type": "code",
   "execution_count": 21,
   "metadata": {},
   "outputs": [],
   "source": [
    "X_train, y_train = df_X_train_model.values, df_y_train.values\n",
    "X_test, y_test = df_X_test_model.values, df_y_test.values"
   ]
  },
  {
   "cell_type": "code",
   "execution_count": 22,
   "metadata": {},
   "outputs": [],
   "source": [
    "from sklearn.linear_model import LogisticRegression, SGDClassifier\n",
    "from sklearn.svm import SVC\n",
    "from sklearn.neighbors import KNeighborsClassifier\n",
    "from sklearn.tree import DecisionTreeClassifier\n",
    "from sklearn.ensemble import ExtraTreesClassifier, BaggingClassifier\n",
    "\n",
    "base_clf = SGDClassifier(loss=\"log\", eta0=10, penalty=\"l1\", learning_rate=\"adaptive\", class_weight=\"balanced\")\n",
    "\n",
    "classifiers = {\n",
    "    \"LogisticRegression\": LogisticRegression(C=0.1, penalty='l1', solver='liblinear'),\n",
    "    \"ExtraTreeClassifierBase\": ExtraTreesClassifier(),\n",
    "    \"ExtraTreeClassifierV1\": ExtraTreesClassifier(bootstrap=False, criterion='gini', max_depth=8, max_features='log2', min_samples_split=2, n_estimators=200),\n",
    "    \"ExtraTreeClassifierV2\": ExtraTreesClassifier(bootstrap=False, criterion='entropy', max_depth=8, max_features='auto', min_samples_split=5, n_estimators=500),\n",
    "    \"BaggingClassifier\": BaggingClassifier(base_estimator=base_clf)\n",
    "}"
   ]
  },
  {
   "cell_type": "markdown",
   "metadata": {},
   "source": [
    "## 1.5 Model Training"
   ]
  },
  {
   "cell_type": "code",
   "execution_count": 23,
   "metadata": {},
   "outputs": [
    {
     "name": "stdout",
     "output_type": "stream",
     "text": [
      "            LogisticRegression has a training score (recall_macro) of 49.32% \n",
      "       ExtraTreeClassifierBase has a training score (recall_macro) of 45.42% \n",
      "         ExtraTreeClassifierV1 has a training score (recall_macro) of 48.07% \n",
      "         ExtraTreeClassifierV2 has a training score (recall_macro) of 48.45% \n",
      "             BaggingClassifier has a training score (recall_macro) of 50.08% \n"
     ]
    }
   ],
   "source": [
    "from sklearn.model_selection import cross_val_score\n",
    "from sklearn.metrics import f1_score, make_scorer\n",
    "\n",
    "metric = 'recall_macro'\n",
    "for name, clf in classifiers.items():\n",
    "    clf.fit(X_train, y_train)\n",
    "    training_score = cross_val_score(clf, X_train, y_train, cv=10, n_jobs=-1,\n",
    "        scoring=metric)\n",
    "    \n",
    "    print(\"%30s has a training score (%s) of %.2f%% \" % (name, metric, 100*training_score.mean()))"
   ]
  },
  {
   "cell_type": "code",
   "execution_count": 24,
   "metadata": {},
   "outputs": [],
   "source": [
    "for name in classifiers:\n",
    "    classifiers[name].fit(X_train, y_train)"
   ]
  },
  {
   "cell_type": "markdown",
   "metadata": {},
   "source": [
    "### 1.5.1 Feature Importance"
   ]
  },
  {
   "cell_type": "code",
   "execution_count": 25,
   "metadata": {},
   "outputs": [
    {
     "name": "stdout",
     "output_type": "stream",
     "text": [
      "Feature Ranking\n",
      " 1. feature 62        FAC_REHAB_IND (0.053850)\n",
      " 2. feature 67         FAC_PEDS_IND (0.049501)\n",
      " 3. feature 60     FAC_TEACHING_IND (0.040101)\n",
      " 4. feature 23               RACE_4 (0.032138)\n",
      " 5. feature 61        FAC_PSYCH_IND (0.030285)\n",
      " 6. feature 29      ADMIT_WEEKDAY_2 (0.029275)\n",
      " 7. feature 28      ADMIT_WEEKDAY_1 (0.029132)\n",
      " 8. feature 31      ADMIT_WEEKDAY_4 (0.028325)\n",
      " 9. feature 30      ADMIT_WEEKDAY_3 (0.028083)\n",
      "10. feature 64          FAC_SNF_IND (0.025940)\n",
      "11. feature 32      ADMIT_WEEKDAY_5 (0.024507)\n",
      "12. feature 55 ADMITTING_DIAGNOSIS_CHANGED (0.023809)\n",
      "13. feature 54 ADMITTING_DIAGNOSIS_UNCHANGED (0.022902)\n",
      "14. feature 24               RACE_5 (0.022288)\n",
      "15. feature 51 POA_PROVIDER_INDICATOR_M (0.022256)\n",
      "16. feature 22               RACE_3 (0.021999)\n",
      "17. feature 52 POA_PROVIDER_INDICATOR_R (0.021642)\n",
      "18. feature 17           SEX_CODE_F (0.020768)\n",
      "19. feature 18           SEX_CODE_M (0.019982)\n",
      "20. feature 53 POA_PROVIDER_INDICATOR_X (0.018892)\n",
      "21. feature 63   FAC_ACUTE_CARE_IND (0.018511)\n",
      "22. feature  0  TYPE_OF_ADMISSION_1 (0.018214)\n",
      "23. feature 26          ETHNICITY_2 (0.017790)\n",
      "24. feature  6 SOURCE_OF_ADMISSION_1 (0.017474)\n",
      "25. feature 25          ETHNICITY_1 (0.017274)\n",
      "26. feature 44        PAT_AGE_50-59 (0.016940)\n",
      "27. feature  8 SOURCE_OF_ADMISSION_4 (0.016543)\n",
      "28. feature 35            PAT_AGE_0 (0.016157)\n",
      "29. feature  1  TYPE_OF_ADMISSION_2 (0.015936)\n",
      "30. feature 45        PAT_AGE_60-69 (0.015923)\n",
      "31. feature  2  TYPE_OF_ADMISSION_3 (0.015246)\n",
      "32. feature 47        PAT_AGE_70-79 (0.015007)\n",
      "33. feature  7 SOURCE_OF_ADMISSION_2 (0.014751)\n",
      "34. feature 40        PAT_AGE_20-29 (0.014292)\n",
      "35. feature 42        PAT_AGE_40-49 (0.013754)\n",
      "36. feature  3  TYPE_OF_ADMISSION_4 (0.013341)\n",
      "37. feature 41        PAT_AGE_30-39 (0.012009)\n",
      "38. feature 68          FAC_UNKNOWN (0.011999)\n",
      "39. feature 49        PAT_AGE_80-89 (0.011254)\n",
      "40. feature  9 SOURCE_OF_ADMISSION_5 (0.011045)\n",
      "41. feature 34      ADMIT_WEEKDAY_7 (0.010865)\n",
      "42. feature 33      ADMIT_WEEKDAY_6 (0.010810)\n",
      "43. feature 65 FAC_LONG_TERM_AC_IND (0.010544)\n",
      "44. feature 38        PAT_AGE_10-19 (0.009458)\n",
      "45. feature 56    WEEKEND_ADMISSION (0.009221)\n",
      "46. feature 57       WEEK_ADMISSION (0.009085)\n",
      "47. feature 21               RACE_2 (0.006759)\n",
      "48. feature 50          PAT_AGE_90+ (0.006148)\n",
      "49. feature 37          PAT_AGE_1-9 (0.005898)\n",
      "50. feature 19           SEX_CODE_U (0.004980)\n",
      "51. feature 43 PAT_AGE_45-64 (HIV & D/A) (0.004700)\n",
      "52. feature 39 PAT_AGE_18-44 (HIV & D/A) (0.004585)\n",
      "53. feature 27          ETHNICITY_3 (0.003398)\n",
      "54. feature 59    NON_TEXAS_PATIENT (0.003289)\n",
      "55. feature 10 SOURCE_OF_ADMISSION_6 (0.003266)\n",
      "56. feature 16         PAT_STATE_ZZ (0.003263)\n",
      "57. feature 58        TEXAS_PATIENT (0.003255)\n",
      "58. feature 14         PAT_STATE_TX (0.003183)\n",
      "59. feature 11 SOURCE_OF_ADMISSION_8 (0.002811)\n",
      "60. feature 13 SOURCE_OF_ADMISSION_D (0.002573)\n",
      "61. feature  4  TYPE_OF_ADMISSION_5 (0.002269)\n",
      "62. feature 46 PAT_AGE_65-74 (HIV & D/A) (0.002112)\n",
      "63. feature  5  TYPE_OF_ADMISSION_9 (0.001937)\n",
      "64. feature 20               RACE_1 (0.001901)\n",
      "65. feature 12 SOURCE_OF_ADMISSION_9 (0.001783)\n",
      "66. feature 48 PAT_AGE_75+ (HIV & D/A) (0.001355)\n",
      "67. feature 36 PAT_AGE_0-17 (HIV & D/A) (0.000992)\n",
      "68. feature 66    FAC_OTHER_LTC_IND (0.000296)\n",
      "69. feature 15         PAT_STATE_XX (0.000127)\n"
     ]
    }
   ],
   "source": [
    "model = \"ExtraTreeClassifierBase\"\n",
    "clf = classifiers[model]\n",
    "\n",
    "if model == \"ExtraTreeClassifierBase\":\n",
    "\n",
    "    importances = clf.feature_importances_\n",
    "    std = np.std([tree.feature_importances_ for tree in clf.estimators_], axis=0)\n",
    "    indices = np.argsort(importances)[::-1]\n",
    "    \n",
    "    print(\"Feature Ranking\")\n",
    "    feature_names = [df_X_train_model.columns[indices[f]] for f in range(importances.shape[0])]\n",
    "    for f in range(importances.shape[0]):\n",
    "        print(\"%2d. feature %2d %20s (%f)\" % (f+1, indices[f], feature_names[f], importances[indices[f]]))\n",
    "        "
   ]
  },
  {
   "cell_type": "code",
   "execution_count": 26,
   "metadata": {},
   "outputs": [
    {
     "data": {
      "image/png": "[encoded data removed]",
      "text/plain": [
       "<Figure size 576x1584 with 1 Axes>"
      ]
     },
     "metadata": {},
     "output_type": "display_data"
    }
   ],
   "source": [
    "plt.figure(figsize=(8,22))\n",
    "plt.title(\"Feature Importance\")\n",
    "plt.barh(range(importances.shape[0]), importances[indices], xerr=std[indices], align='center')\n",
    "plt.yticks(range(importances.shape[0]), feature_names)\n",
    "plt.ylim([-1, importances.shape[0]])\n",
    "plt.show()"
   ]
  },
  {
   "cell_type": "markdown",
   "metadata": {},
   "source": [
    "### 1.5.1.1 Delete Unimportant Features"
   ]
  },
  {
   "cell_type": "code",
   "execution_count": 27,
   "metadata": {},
   "outputs": [
    {
     "name": "stdout",
     "output_type": "stream",
     "text": [
      "Feature: ETHNICITY_3, Importance: 0.0033979444971555276\n",
      "Feature: NON_TEXAS_PATIENT, Importance: 0.0032885319640542946\n",
      "Feature: SOURCE_OF_ADMISSION_6, Importance: 0.003266204718571774\n",
      "Feature: PAT_STATE_ZZ, Importance: 0.0032626307201587073\n",
      "Feature: TEXAS_PATIENT, Importance: 0.003255025445643474\n",
      "Feature: PAT_STATE_TX, Importance: 0.0031829229248421334\n",
      "Feature: SOURCE_OF_ADMISSION_8, Importance: 0.0028111231653938982\n",
      "Feature: SOURCE_OF_ADMISSION_D, Importance: 0.0025733266833230547\n",
      "Feature: TYPE_OF_ADMISSION_5, Importance: 0.0022692015187739537\n",
      "Feature: PAT_AGE_65-74 (HIV & D/A), Importance: 0.0021121695676725965\n",
      "Feature: TYPE_OF_ADMISSION_9, Importance: 0.0019372022749853783\n",
      "Feature: RACE_1, Importance: 0.00190139930893463\n",
      "Feature: SOURCE_OF_ADMISSION_9, Importance: 0.0017829294580384402\n",
      "Feature: PAT_AGE_75+ (HIV & D/A), Importance: 0.0013548288920067627\n",
      "Feature: PAT_AGE_0-17 (HIV & D/A), Importance: 0.0009915625731284235\n",
      "Feature: FAC_OTHER_LTC_IND, Importance: 0.00029613938983234046\n",
      "Feature: PAT_STATE_XX, Importance: 0.00012674008155521088\n"
     ]
    }
   ],
   "source": [
    "unimportant_features = []\n",
    "for f in range(importances.shape[0]):\n",
    "    if importances[indices[f]] < 0.0035:\n",
    "        unimportant_features.append(feature_names[f])\n",
    "        print(\"Feature: {0}, Importance: {1}\".format(feature_names[f], importances[indices[f]]))\n",
    "\n",
    "# also drop features with lots of noise\n",
    "unimportant_features.extend(['TYPE_OF_ADMISSION_4','SOURCE_OF_ADMISSION_5','SOURCE_OF_ADMISSION_4','PAT_AGE_0'])\n",
    "    \n",
    "df_X_train_new_model = df_X_train_model\n",
    "df_X_test_new_model = df_X_test_model\n",
    "\n",
    "df_y_train_new_model = df_y_train\n",
    "df_y_test_new_model = df_y_test\n",
    "\n",
    "df_X_train_new_model.drop(columns=unimportant_features, inplace=True)\n",
    "df_X_test_new_model.drop(columns=unimportant_features, inplace=True)\n",
    "\n",
    "df_y_train_new_model.drop(columns=unimportant_features, inplace=True)\n",
    "df_y_test_new_model.drop(columns=unimportant_features, inplace=True)\n",
    "\n",
    "X_train, y_train = df_X_train_new_model.values, df_y_train_new_model.values\n",
    "X_test, y_test = df_X_test_new_model.values, df_y_test_new_model.values"
   ]
  },
  {
   "cell_type": "markdown",
   "metadata": {},
   "source": [
    "### 1.5.1.2 Retrain"
   ]
  },
  {
   "cell_type": "code",
   "execution_count": 29,
   "metadata": {},
   "outputs": [
    {
     "name": "stdout",
     "output_type": "stream",
     "text": [
      "            LogisticRegression has a training score (recall_macro) of 49.18% \n"
     ]
    },
    {
     "ename": "KeyboardInterrupt",
     "evalue": "",
     "output_type": "error",
     "traceback": [
      "\u001b[1;31m---------------------------------------------------------------------------\u001b[0m",
      "\u001b[1;31mKeyboardInterrupt\u001b[0m                         Traceback (most recent call last)",
      "\u001b[1;32m<ipython-input-29-357fe7611b92>\u001b[0m in \u001b[0;36m<module>\u001b[1;34m\u001b[0m\n\u001b[0;32m      3\u001b[0m     \u001b[0mclf\u001b[0m\u001b[1;33m.\u001b[0m\u001b[0mfit\u001b[0m\u001b[1;33m(\u001b[0m\u001b[0mX_train\u001b[0m\u001b[1;33m,\u001b[0m \u001b[0my_train\u001b[0m\u001b[1;33m)\u001b[0m\u001b[1;33m\u001b[0m\u001b[1;33m\u001b[0m\u001b[0m\n\u001b[0;32m      4\u001b[0m     training_score = cross_val_score(clf, X_train, y_train, cv=10, n_jobs=-1,\n\u001b[1;32m----> 5\u001b[1;33m         scoring=metric)\n\u001b[0m\u001b[0;32m      6\u001b[0m \u001b[1;33m\u001b[0m\u001b[0m\n\u001b[0;32m      7\u001b[0m     \u001b[0mprint\u001b[0m\u001b[1;33m(\u001b[0m\u001b[1;34m\"%30s has a training score (%s) of %.2f%% \"\u001b[0m \u001b[1;33m%\u001b[0m \u001b[1;33m(\u001b[0m\u001b[0mname\u001b[0m\u001b[1;33m,\u001b[0m \u001b[0mmetric\u001b[0m\u001b[1;33m,\u001b[0m \u001b[1;36m100\u001b[0m\u001b[1;33m*\u001b[0m\u001b[0mtraining_score\u001b[0m\u001b[1;33m.\u001b[0m\u001b[0mmean\u001b[0m\u001b[1;33m(\u001b[0m\u001b[1;33m)\u001b[0m\u001b[1;33m)\u001b[0m\u001b[1;33m)\u001b[0m\u001b[1;33m\u001b[0m\u001b[1;33m\u001b[0m\u001b[0m\n",
      "\u001b[1;32mc:\\users\\luke\\appdata\\local\\programs\\python\\python36\\lib\\site-packages\\sklearn\\model_selection\\_validation.py\u001b[0m in \u001b[0;36mcross_val_score\u001b[1;34m(estimator, X, y, groups, scoring, cv, n_jobs, verbose, fit_params, pre_dispatch, error_score)\u001b[0m\n\u001b[0;32m    388\u001b[0m                                 \u001b[0mfit_params\u001b[0m\u001b[1;33m=\u001b[0m\u001b[0mfit_params\u001b[0m\u001b[1;33m,\u001b[0m\u001b[1;33m\u001b[0m\u001b[1;33m\u001b[0m\u001b[0m\n\u001b[0;32m    389\u001b[0m                                 \u001b[0mpre_dispatch\u001b[0m\u001b[1;33m=\u001b[0m\u001b[0mpre_dispatch\u001b[0m\u001b[1;33m,\u001b[0m\u001b[1;33m\u001b[0m\u001b[1;33m\u001b[0m\u001b[0m\n\u001b[1;32m--> 390\u001b[1;33m                                 error_score=error_score)\n\u001b[0m\u001b[0;32m    391\u001b[0m     \u001b[1;32mreturn\u001b[0m \u001b[0mcv_results\u001b[0m\u001b[1;33m[\u001b[0m\u001b[1;34m'test_score'\u001b[0m\u001b[1;33m]\u001b[0m\u001b[1;33m\u001b[0m\u001b[1;33m\u001b[0m\u001b[0m\n\u001b[0;32m    392\u001b[0m \u001b[1;33m\u001b[0m\u001b[0m\n",
      "\u001b[1;32mc:\\users\\luke\\appdata\\local\\programs\\python\\python36\\lib\\site-packages\\sklearn\\model_selection\\_validation.py\u001b[0m in \u001b[0;36mcross_validate\u001b[1;34m(estimator, X, y, groups, scoring, cv, n_jobs, verbose, fit_params, pre_dispatch, return_train_score, return_estimator, error_score)\u001b[0m\n\u001b[0;32m    234\u001b[0m             \u001b[0mreturn_times\u001b[0m\u001b[1;33m=\u001b[0m\u001b[1;32mTrue\u001b[0m\u001b[1;33m,\u001b[0m \u001b[0mreturn_estimator\u001b[0m\u001b[1;33m=\u001b[0m\u001b[0mreturn_estimator\u001b[0m\u001b[1;33m,\u001b[0m\u001b[1;33m\u001b[0m\u001b[1;33m\u001b[0m\u001b[0m\n\u001b[0;32m    235\u001b[0m             error_score=error_score)\n\u001b[1;32m--> 236\u001b[1;33m         for train, test in cv.split(X, y, groups))\n\u001b[0m\u001b[0;32m    237\u001b[0m \u001b[1;33m\u001b[0m\u001b[0m\n\u001b[0;32m    238\u001b[0m     \u001b[0mzipped_scores\u001b[0m \u001b[1;33m=\u001b[0m \u001b[0mlist\u001b[0m\u001b[1;33m(\u001b[0m\u001b[0mzip\u001b[0m\u001b[1;33m(\u001b[0m\u001b[1;33m*\u001b[0m\u001b[0mscores\u001b[0m\u001b[1;33m)\u001b[0m\u001b[1;33m)\u001b[0m\u001b[1;33m\u001b[0m\u001b[1;33m\u001b[0m\u001b[0m\n",
      "\u001b[1;32mc:\\users\\luke\\appdata\\local\\programs\\python\\python36\\lib\\site-packages\\joblib\\parallel.py\u001b[0m in \u001b[0;36m__call__\u001b[1;34m(self, iterable)\u001b[0m\n\u001b[0;32m   1015\u001b[0m \u001b[1;33m\u001b[0m\u001b[0m\n\u001b[0;32m   1016\u001b[0m             \u001b[1;32mwith\u001b[0m \u001b[0mself\u001b[0m\u001b[1;33m.\u001b[0m\u001b[0m_backend\u001b[0m\u001b[1;33m.\u001b[0m\u001b[0mretrieval_context\u001b[0m\u001b[1;33m(\u001b[0m\u001b[1;33m)\u001b[0m\u001b[1;33m:\u001b[0m\u001b[1;33m\u001b[0m\u001b[1;33m\u001b[0m\u001b[0m\n\u001b[1;32m-> 1017\u001b[1;33m                 \u001b[0mself\u001b[0m\u001b[1;33m.\u001b[0m\u001b[0mretrieve\u001b[0m\u001b[1;33m(\u001b[0m\u001b[1;33m)\u001b[0m\u001b[1;33m\u001b[0m\u001b[1;33m\u001b[0m\u001b[0m\n\u001b[0m\u001b[0;32m   1018\u001b[0m             \u001b[1;31m# Make sure that we get a last message telling us we are done\u001b[0m\u001b[1;33m\u001b[0m\u001b[1;33m\u001b[0m\u001b[1;33m\u001b[0m\u001b[0m\n\u001b[0;32m   1019\u001b[0m             \u001b[0melapsed_time\u001b[0m \u001b[1;33m=\u001b[0m \u001b[0mtime\u001b[0m\u001b[1;33m.\u001b[0m\u001b[0mtime\u001b[0m\u001b[1;33m(\u001b[0m\u001b[1;33m)\u001b[0m \u001b[1;33m-\u001b[0m \u001b[0mself\u001b[0m\u001b[1;33m.\u001b[0m\u001b[0m_start_time\u001b[0m\u001b[1;33m\u001b[0m\u001b[1;33m\u001b[0m\u001b[0m\n",
      "\u001b[1;32mc:\\users\\luke\\appdata\\local\\programs\\python\\python36\\lib\\site-packages\\joblib\\parallel.py\u001b[0m in \u001b[0;36mretrieve\u001b[1;34m(self)\u001b[0m\n\u001b[0;32m    907\u001b[0m             \u001b[1;32mtry\u001b[0m\u001b[1;33m:\u001b[0m\u001b[1;33m\u001b[0m\u001b[1;33m\u001b[0m\u001b[0m\n\u001b[0;32m    908\u001b[0m                 \u001b[1;32mif\u001b[0m \u001b[0mgetattr\u001b[0m\u001b[1;33m(\u001b[0m\u001b[0mself\u001b[0m\u001b[1;33m.\u001b[0m\u001b[0m_backend\u001b[0m\u001b[1;33m,\u001b[0m \u001b[1;34m'supports_timeout'\u001b[0m\u001b[1;33m,\u001b[0m \u001b[1;32mFalse\u001b[0m\u001b[1;33m)\u001b[0m\u001b[1;33m:\u001b[0m\u001b[1;33m\u001b[0m\u001b[1;33m\u001b[0m\u001b[0m\n\u001b[1;32m--> 909\u001b[1;33m                     \u001b[0mself\u001b[0m\u001b[1;33m.\u001b[0m\u001b[0m_output\u001b[0m\u001b[1;33m.\u001b[0m\u001b[0mextend\u001b[0m\u001b[1;33m(\u001b[0m\u001b[0mjob\u001b[0m\u001b[1;33m.\u001b[0m\u001b[0mget\u001b[0m\u001b[1;33m(\u001b[0m\u001b[0mtimeout\u001b[0m\u001b[1;33m=\u001b[0m\u001b[0mself\u001b[0m\u001b[1;33m.\u001b[0m\u001b[0mtimeout\u001b[0m\u001b[1;33m)\u001b[0m\u001b[1;33m)\u001b[0m\u001b[1;33m\u001b[0m\u001b[1;33m\u001b[0m\u001b[0m\n\u001b[0m\u001b[0;32m    910\u001b[0m                 \u001b[1;32melse\u001b[0m\u001b[1;33m:\u001b[0m\u001b[1;33m\u001b[0m\u001b[1;33m\u001b[0m\u001b[0m\n\u001b[0;32m    911\u001b[0m                     \u001b[0mself\u001b[0m\u001b[1;33m.\u001b[0m\u001b[0m_output\u001b[0m\u001b[1;33m.\u001b[0m\u001b[0mextend\u001b[0m\u001b[1;33m(\u001b[0m\u001b[0mjob\u001b[0m\u001b[1;33m.\u001b[0m\u001b[0mget\u001b[0m\u001b[1;33m(\u001b[0m\u001b[1;33m)\u001b[0m\u001b[1;33m)\u001b[0m\u001b[1;33m\u001b[0m\u001b[1;33m\u001b[0m\u001b[0m\n",
      "\u001b[1;32mc:\\users\\luke\\appdata\\local\\programs\\python\\python36\\lib\\site-packages\\joblib\\_parallel_backends.py\u001b[0m in \u001b[0;36mwrap_future_result\u001b[1;34m(future, timeout)\u001b[0m\n\u001b[0;32m    560\u001b[0m         AsyncResults.get from multiprocessing.\"\"\"\n\u001b[0;32m    561\u001b[0m         \u001b[1;32mtry\u001b[0m\u001b[1;33m:\u001b[0m\u001b[1;33m\u001b[0m\u001b[1;33m\u001b[0m\u001b[0m\n\u001b[1;32m--> 562\u001b[1;33m             \u001b[1;32mreturn\u001b[0m \u001b[0mfuture\u001b[0m\u001b[1;33m.\u001b[0m\u001b[0mresult\u001b[0m\u001b[1;33m(\u001b[0m\u001b[0mtimeout\u001b[0m\u001b[1;33m=\u001b[0m\u001b[0mtimeout\u001b[0m\u001b[1;33m)\u001b[0m\u001b[1;33m\u001b[0m\u001b[1;33m\u001b[0m\u001b[0m\n\u001b[0m\u001b[0;32m    563\u001b[0m         \u001b[1;32mexcept\u001b[0m \u001b[0mLokyTimeoutError\u001b[0m\u001b[1;33m:\u001b[0m\u001b[1;33m\u001b[0m\u001b[1;33m\u001b[0m\u001b[0m\n\u001b[0;32m    564\u001b[0m             \u001b[1;32mraise\u001b[0m \u001b[0mTimeoutError\u001b[0m\u001b[1;33m(\u001b[0m\u001b[1;33m)\u001b[0m\u001b[1;33m\u001b[0m\u001b[1;33m\u001b[0m\u001b[0m\n",
      "\u001b[1;32mc:\\users\\luke\\appdata\\local\\programs\\python\\python36\\lib\\concurrent\\futures\\_base.py\u001b[0m in \u001b[0;36mresult\u001b[1;34m(self, timeout)\u001b[0m\n\u001b[0;32m    425\u001b[0m                 \u001b[1;32mreturn\u001b[0m \u001b[0mself\u001b[0m\u001b[1;33m.\u001b[0m\u001b[0m__get_result\u001b[0m\u001b[1;33m(\u001b[0m\u001b[1;33m)\u001b[0m\u001b[1;33m\u001b[0m\u001b[1;33m\u001b[0m\u001b[0m\n\u001b[0;32m    426\u001b[0m \u001b[1;33m\u001b[0m\u001b[0m\n\u001b[1;32m--> 427\u001b[1;33m             \u001b[0mself\u001b[0m\u001b[1;33m.\u001b[0m\u001b[0m_condition\u001b[0m\u001b[1;33m.\u001b[0m\u001b[0mwait\u001b[0m\u001b[1;33m(\u001b[0m\u001b[0mtimeout\u001b[0m\u001b[1;33m)\u001b[0m\u001b[1;33m\u001b[0m\u001b[1;33m\u001b[0m\u001b[0m\n\u001b[0m\u001b[0;32m    428\u001b[0m \u001b[1;33m\u001b[0m\u001b[0m\n\u001b[0;32m    429\u001b[0m             \u001b[1;32mif\u001b[0m \u001b[0mself\u001b[0m\u001b[1;33m.\u001b[0m\u001b[0m_state\u001b[0m \u001b[1;32min\u001b[0m \u001b[1;33m[\u001b[0m\u001b[0mCANCELLED\u001b[0m\u001b[1;33m,\u001b[0m \u001b[0mCANCELLED_AND_NOTIFIED\u001b[0m\u001b[1;33m]\u001b[0m\u001b[1;33m:\u001b[0m\u001b[1;33m\u001b[0m\u001b[1;33m\u001b[0m\u001b[0m\n",
      "\u001b[1;32mc:\\users\\luke\\appdata\\local\\programs\\python\\python36\\lib\\threading.py\u001b[0m in \u001b[0;36mwait\u001b[1;34m(self, timeout)\u001b[0m\n\u001b[0;32m    293\u001b[0m         \u001b[1;32mtry\u001b[0m\u001b[1;33m:\u001b[0m    \u001b[1;31m# restore state no matter what (e.g., KeyboardInterrupt)\u001b[0m\u001b[1;33m\u001b[0m\u001b[1;33m\u001b[0m\u001b[0m\n\u001b[0;32m    294\u001b[0m             \u001b[1;32mif\u001b[0m \u001b[0mtimeout\u001b[0m \u001b[1;32mis\u001b[0m \u001b[1;32mNone\u001b[0m\u001b[1;33m:\u001b[0m\u001b[1;33m\u001b[0m\u001b[1;33m\u001b[0m\u001b[0m\n\u001b[1;32m--> 295\u001b[1;33m                 \u001b[0mwaiter\u001b[0m\u001b[1;33m.\u001b[0m\u001b[0macquire\u001b[0m\u001b[1;33m(\u001b[0m\u001b[1;33m)\u001b[0m\u001b[1;33m\u001b[0m\u001b[1;33m\u001b[0m\u001b[0m\n\u001b[0m\u001b[0;32m    296\u001b[0m                 \u001b[0mgotit\u001b[0m \u001b[1;33m=\u001b[0m \u001b[1;32mTrue\u001b[0m\u001b[1;33m\u001b[0m\u001b[1;33m\u001b[0m\u001b[0m\n\u001b[0;32m    297\u001b[0m             \u001b[1;32melse\u001b[0m\u001b[1;33m:\u001b[0m\u001b[1;33m\u001b[0m\u001b[1;33m\u001b[0m\u001b[0m\n",
      "\u001b[1;31mKeyboardInterrupt\u001b[0m: "
     ]
    }
   ],
   "source": [
    "metric = 'recall_macro'\n",
    "for name, clf in classifiers.items():\n",
    "    clf.fit(X_train, y_train)\n",
    "    training_score = cross_val_score(clf, X_train, y_train, cv=10, n_jobs=-1,\n",
    "        scoring=metric)\n",
    "    \n",
    "    print(\"%30s has a training score (%s) of %.2f%% \" % (name, metric, 100*training_score.mean()))"
   ]
  },
  {
   "cell_type": "markdown",
   "metadata": {},
   "source": [
    "### 1.5.2 Metrics"
   ]
  },
  {
   "cell_type": "code",
   "execution_count": null,
   "metadata": {},
   "outputs": [],
   "source": [
    "# pd.crosstab(df_pred.true.map(target_labels), df_pred[model].map(target_labels), rownames=['True'], colnames=['Predicted'])"
   ]
  },
  {
   "cell_type": "code",
   "execution_count": null,
   "metadata": {},
   "outputs": [],
   "source": [
    "# from sklearn.metrics import classification_report \n",
    "# print(classification_report(df_pred.true, df_pred[model], target_names=le_target.inverse_transform([0,1,2])))"
   ]
  },
  {
   "cell_type": "markdown",
   "metadata": {},
   "source": [
    "### 1.5.3 Hyper-Parameter Tuning"
   ]
  },
  {
   "cell_type": "code",
   "execution_count": null,
   "metadata": {},
   "outputs": [],
   "source": [
    "from sklearn.model_selection import GridSearchCV\n",
    "\n",
    "param_space = {\n",
    "    \n",
    "    \"LogisticRegression\": {\n",
    "        \"solver\":[\"liblinear\"],\n",
    "        \"penalty\": ['l1', 'l2'], \n",
    "        \"C\": [0.001, 0.01, 0.1, 1, 10, 100, 1000]\n",
    "    },\n",
    "    \n",
    "    \"ExtraTreeClassifier\": {\n",
    "        \"n_estimators\":[200, 500],\n",
    "        \"max_features\":[\"auto\", \"sqrt\", \"log2\"],\n",
    "        \"min_samples_split\":[2,5,10],\n",
    "        \"max_depth\": [4,5,6,7,8],\n",
    "        \"criterion\":[\"gini\", \"entropy\"],\n",
    "        \"bootstrap\":[True, False]\n",
    "    },\n",
    "    \"BaggingClassifier\": {\n",
    "        \"max_samples\": [0.5, 1.0],\n",
    "        \"max_features\": [1, 2, 4],\n",
    "        \"bootstrap\": [True, False],\n",
    "        \"bootstrap_features\": [True, False]\n",
    "    }\n",
    "}\n",
    "    \n",
    "\n",
    "best_classifiers = {}"
   ]
  },
  {
   "cell_type": "code",
   "execution_count": null,
   "metadata": {},
   "outputs": [],
   "source": [
    "if HYPER_TUNING == True:\n",
    "\n",
    "    for name, clf in classifiers.items():\n",
    "\n",
    "        param = param_space[name]\n",
    "        print(\"\\n\\nPerforming GridSearchCV on %s...\" % name)\n",
    "        clf = GridSearchCV(classifiers[name], param, cv=5, scoring=metric )\n",
    "\n",
    "        clf.fit(X_train, y_train)\n",
    "        best_classifiers[name] = clf\n",
    "\n",
    "        score = cross_val_score(clf, X_train, y_train, cv=10)\n",
    "        print(best_classifiers[name])\n",
    "        print(\"%s Cross Validation Score (%s): %.2f%%\" % (name, metric, 100*score.mean()))\n",
    "\n",
    "        print(\"Best Params: \\n\")\n",
    "        print(best_classifiers[name].best_params_)"
   ]
  },
  {
   "cell_type": "code",
   "execution_count": null,
   "metadata": {},
   "outputs": [],
   "source": [
    "from sklearn.model_selection import cross_val_predict\n",
    "from sklearn.metrics import f1_score\n",
    "\n",
    "if HYPER_TUNING == True:\n",
    "\n",
    "    best_classifier_pred = {}\n",
    "    for name in classifiers:\n",
    "        pred = cross_val_predict(best_classifiers[name], X_train, y_train, cv=10)\n",
    "        best_classifier_pred[name] = pred\n",
    "\n",
    "    best_classifier_pred['true'] = y_train\n",
    "    df_best_pred = pd.DataFrame(best_classifier_pred)"
   ]
  },
  {
   "cell_type": "markdown",
   "metadata": {},
   "source": [
    "## 1.6 Grading"
   ]
  },
  {
   "cell_type": "code",
   "execution_count": 43,
   "metadata": {},
   "outputs": [],
   "source": [
    "df.to_csv(\"data/test.csv\", index=False)"
   ]
  },
  {
   "cell_type": "code",
   "execution_count": 44,
   "metadata": {},
   "outputs": [
    {
     "data": {
      "text/plain": [
       "(100000, 193)"
      ]
     },
     "execution_count": 44,
     "metadata": {},
     "output_type": "execute_result"
    }
   ],
   "source": [
    "df_grading = pd.read_csv(f\"data/grading.csv\", dtype=str)\n",
    "df_grading.shape"
   ]
  },
  {
   "cell_type": "code",
   "execution_count": 45,
   "metadata": {},
   "outputs": [
    {
     "data": {
      "text/plain": [
       "(100000, 202)"
      ]
     },
     "execution_count": 45,
     "metadata": {},
     "output_type": "execute_result"
    }
   ],
   "source": [
    "df_grading = pd.merge(df_grading, df_facility, on=\"THCIC_ID\", how=\"left\")\n",
    "df_grading.shape"
   ]
  },
  {
   "cell_type": "code",
   "execution_count": 46,
   "metadata": {},
   "outputs": [],
   "source": [
    "df_grading[\"FAC_UNKNOWN\"] = df_grading.FAC_OTHER_LTC_IND.isnull().astype(int)\n",
    "\n",
    "for c in df.columns:\n",
    "    if c [:3]==\"FAC\":\n",
    "        df_grading[c].fillna(0, inplace=True)"
   ]
  },
  {
   "cell_type": "markdown",
   "metadata": {},
   "source": [
    "### 1.6.1. Encoding `df_grading`"
   ]
  },
  {
   "cell_type": "code",
   "execution_count": 47,
   "metadata": {},
   "outputs": [
    {
     "name": "stdout",
     "output_type": "stream",
     "text": [
      "Feature TYPE_OF_ADMISSION -> ['2' '1' '3' '4' '5' '9']\n",
      "Feature SOURCE_OF_ADMISSION -> ['1' '2' '5' '6' 'D' '4' '8' '9' '0']\n",
      "Feature PAT_STATE -> ['TX' 'ZZ' 'XX']\n",
      "Feature SEX_CODE -> ['F' 'M' 'U']\n",
      "Feature RACE -> ['4' '5' '3' '2' '1']\n",
      "Feature ETHNICITY -> ['1' '2' '3']\n"
     ]
    }
   ],
   "source": [
    "my_lib.clean_categories(df_grading)"
   ]
  },
  {
   "cell_type": "code",
   "execution_count": 51,
   "metadata": {},
   "outputs": [],
   "source": [
    "feature_engineering(df_grading)\n",
    "\n",
    "cat_features = [\"TYPE_OF_ADMISSION\",\"SOURCE_OF_ADMISSION\",\"PAT_STATE\", \"SEX_CODE\", \"RACE\", \"ETHNICITY\", \"ADMIT_WEEKDAY\", \"PAT_AGE\", \"POA_PROVIDER_INDICATOR\"]\n",
    "bool_features = [\"ADMITTING_DIAGNOSIS_UNCHANGED\", \"ADMITTING_DIAGNOSIS_CHANGED\", \"WEEKEND_ADMISSION\", \"WEEK_ADMISSION\", \"TEXAS_PATIENT\", \"NON_TEXAS_PATIENT\"] + [c for c in df.columns if c[:3]==\"FAC\"]\n",
    "\n",
    "df_X_train_model, df_X_test_model = encode_features(df_X_train, df_grading, cat_LabelBinarize=cat_features, bool_features=bool_features)"
   ]
  },
  {
   "cell_type": "markdown",
   "metadata": {},
   "source": [
    "### 1.6.2. Make Predictions"
   ]
  },
  {
   "cell_type": "code",
   "execution_count": 52,
   "metadata": {},
   "outputs": [],
   "source": [
    "model = \"BaggingClassifier\"\n",
    "df_grading['TARGET'] = classifiers[model].fit(df_X_train_model, y_train).predict(df_X_test_model)\n",
    "df_grading['TARGET'] = df_grading['TARGET'].map(target_labels)"
   ]
  },
  {
   "cell_type": "markdown",
   "metadata": {},
   "source": [
    "### 1.6.3. Save Predictions"
   ]
  },
  {
   "cell_type": "code",
   "execution_count": 53,
   "metadata": {},
   "outputs": [],
   "source": [
    "df_grading.loc[:, [\"RECORD_ID\", \"TARGET\"]].to_csv(\"df_grading_pred.csv\", index=False)"
   ]
  },
  {
   "cell_type": "markdown",
   "metadata": {},
   "source": [
    "### 1.6.4. Generate Archive"
   ]
  },
  {
   "cell_type": "code",
   "execution_count": 54,
   "metadata": {},
   "outputs": [
    {
     "name": "stdout",
     "output_type": "stream",
     "text": [
      "Creating archive: my_assignment.zip\n",
      "\t01-Import.ipynb - OK\n",
      "\t02-EDA.ipynb - OK\n",
      "\t03-Model.ipynb - OK\n",
      "\tmy_lib.py - OK\n",
      "\tdf_grading_pred.csv - OK\n"
     ]
    }
   ],
   "source": [
    "my_lib.make_assignment()"
   ]
  },
  {
   "cell_type": "code",
   "execution_count": null,
   "metadata": {},
   "outputs": [],
   "source": []
  }
 ],
 "metadata": {
  "kernelspec": {
   "display_name": "Python 3",
   "language": "python",
   "name": "python3"
  },
  "language_info": {
   "codemirror_mode": {
    "name": "ipython",
    "version": 3
   },
   "file_extension": ".py",
   "mimetype": "text/x-python",
   "name": "python",
   "nbconvert_exporter": "python",
   "pygments_lexer": "ipython3",
   "version": "3.6.8"
  }
 },
 "nbformat": 4,
 "nbformat_minor": 4
}
