{
 "cells": [
  {
   "cell_type": "markdown",
   "metadata": {
    "Collapsed": "false"
   },
   "source": [
    "# Texas Hospital Discharge - Model"
   ]
  },
  {
   "cell_type": "code",
   "execution_count": 2,
   "metadata": {
    "Collapsed": "false"
   },
   "outputs": [],
   "source": [
    "import pandas as pd\n",
    "import numpy as np\n",
    "import matplotlib.pyplot as plt\n",
    "import matplotlib\n",
    "\n",
    "import seaborn as sns\n",
    "sns.set_style(\"darkgrid\")\n",
    "\n",
    "from IPython.display import display, Markdown\n",
    "pd.set_option('display.max_columns', None)  \n",
    "\n",
    "import glob, os\n",
    "\n",
    "HYPER_TUNING = True\n",
    "DEBUG = False\n",
    "SEED = 42"
   ]
  },
  {
   "cell_type": "code",
   "execution_count": 214,
   "metadata": {
    "Collapsed": "false"
   },
   "outputs": [
    {
     "name": "stdout",
     "output_type": "stream",
     "text": [
      "The autoreload extension is already loaded. To reload it, use:\n",
      "  %reload_ext autoreload\n"
     ]
    }
   ],
   "source": [
    "%load_ext autoreload\n",
    "%autoreload 2\n",
    "\n",
    "import my_lib"
   ]
  },
  {
   "cell_type": "code",
   "execution_count": 215,
   "metadata": {},
   "outputs": [
    {
     "data": {
      "text/plain": [
       "(49984, 195)"
      ]
     },
     "execution_count": 215,
     "metadata": {},
     "output_type": "execute_result"
    }
   ],
   "source": [
    "df_patients = pd.read_csv(\"data/df_train_sample_01_of_20.csv\", dtype=str)\n",
    "df_patients.shape"
   ]
  },
  {
   "cell_type": "code",
   "execution_count": 216,
   "metadata": {},
   "outputs": [
    {
     "data": {
      "text/plain": [
       "(606, 10)"
      ]
     },
     "execution_count": 216,
     "metadata": {},
     "output_type": "execute_result"
    }
   ],
   "source": [
    "df_facility = pd.read_csv(\"data/facility.csv\", dtype = str)\n",
    "df_facility.shape"
   ]
  },
  {
   "cell_type": "code",
   "execution_count": 217,
   "metadata": {},
   "outputs": [
    {
     "data": {
      "text/plain": [
       "(49984, 204)"
      ]
     },
     "execution_count": 217,
     "metadata": {},
     "output_type": "execute_result"
    }
   ],
   "source": [
    "df = pd.merge(df_patients, df_facility, on=\"THCIC_ID\", how=\"left\")\n",
    "df.shape"
   ]
  },
  {
   "cell_type": "code",
   "execution_count": 218,
   "metadata": {},
   "outputs": [],
   "source": [
    "df[\"FAC_UNKNOWN\"] = df.FAC_OTHER_LTC_IND.isnull().astype(int)"
   ]
  },
  {
   "cell_type": "code",
   "execution_count": 219,
   "metadata": {},
   "outputs": [],
   "source": [
    "for c in df.columns:\n",
    "    if c [:3]==\"FAC\":\n",
    "        df[c].fillna(0, inplace=True)"
   ]
  },
  {
   "cell_type": "markdown",
   "metadata": {},
   "source": [
    "## 1. Encode Target"
   ]
  },
  {
   "cell_type": "code",
   "execution_count": 220,
   "metadata": {},
   "outputs": [
    {
     "name": "stdout",
     "output_type": "stream",
     "text": [
      "{0: 'long', 1: 'medium', 2: 'short'}\n"
     ]
    }
   ],
   "source": [
    "from sklearn.preprocessing import LabelEncoder\n",
    "if df['TARGET'].dtype!=int:\n",
    "    le_target = LabelEncoder()\n",
    "    df['TARGET']= le_target.fit_transform(df['TARGET'])\n",
    "else:\n",
    "    pass\n",
    "\n",
    "target_labels = {c:le_target.inverse_transform([c])[0] for c in [0,1,2]}\n",
    "print(target_labels)"
   ]
  },
  {
   "cell_type": "markdown",
   "metadata": {},
   "source": [
    "## 1.1 Applying Cleaned Cat. Features"
   ]
  },
  {
   "cell_type": "code",
   "execution_count": 221,
   "metadata": {},
   "outputs": [
    {
     "name": "stdout",
     "output_type": "stream",
     "text": [
      "Feature TYPE_OF_ADMISSION -> ['1' '3' '2' '4' '5' '9']\n",
      "Feature SOURCE_OF_ADMISSION -> ['1' '4' '5' '2' 'D' '6' '9' '8' '0']\n",
      "Feature PAT_STATE -> ['TX' 'ZZ' 'XX']\n",
      "Feature SEX_CODE -> ['U' 'F' 'M']\n",
      "Feature RACE -> ['5' '4' '3' '2' '1']\n",
      "Feature ETHNICITY -> ['1' '2' '3']\n"
     ]
    }
   ],
   "source": [
    "my_lib.clean_categories(df)"
   ]
  },
  {
   "cell_type": "markdown",
   "metadata": {},
   "source": [
    "## 1.2 Feature Engineering"
   ]
  },
  {
   "cell_type": "code",
   "execution_count": 222,
   "metadata": {},
   "outputs": [],
   "source": [
    "def feature_engineering(df):\n",
    "    \n",
    "    feature = \"ADMITTING_DIAGNOSIS_UNCHANGED\"\n",
    "    df[feature] = (df.ADMITTING_DIAGNOSIS==df.PRINC_DIAG_CODE) & (df.POA_PRINC_DIAG_CODE==\"Y\")\n",
    "    \n",
    "    feature = \"ADMITTING_DIAGNOSIS_CHANGED\"\n",
    "    df[feature] = (df.ADMITTING_DIAGNOSIS!=df.PRINC_DIAG_CODE) & (df.POA_PRINC_DIAG_CODE==\"Y\")\n",
    "    \n",
    "    # admitted via type 'urgent' or 'trauma center' should result in longer stays\n",
    "    feature = \"SERIOUS_ADMISSION\"\n",
    "    df[feature] = (df.TYPE_OF_ADMISSION==\"2\") | (df.TYPE_OF_ADMISSION==\"5\")\n",
    "    \n",
    "    # admitted via type 'newborn' should result in shorter stays\n",
    "    feature = \"MINOR_ADMISSION\"\n",
    "    df[feature] = (df.TYPE_OF_ADMISSION==\"4\")\n",
    "        \n",
    "    # admitted on the weekend\n",
    "    feature = \"WEEKEND_ADMISSION\"\n",
    "    df[feature] = (df.ADMIT_WEEKDAY==\"6\") | (df.ADMIT_WEEKDAY==\"7\")\n",
    "    \n",
    "    # admitted during the week\n",
    "    feature = \"WEEK_ADMISSION\"\n",
    "    df[feature] = (df.ADMIT_WEEKDAY!=\"6\") & (df.ADMIT_WEEKDAY!=\"7\")\n",
    "    \n",
    "    # texas patients\n",
    "    feature = \"TEXAS_PATIENT\"\n",
    "    df[feature] = (df.PAT_STATE==\"TX\")\n",
    "    \n",
    "    # non-texan patients\n",
    "    feature = \"NON_TEXAS_PATIENT\"\n",
    "    df[feature] = (df.PAT_STATE!=\"TX\")\n",
    "    \n",
    "    # over 65 years old\n",
    "    feature = \"ELDERLY\"\n",
    "    df[feature] = (df.PAT_AGE.astype('int') <= 21) & (df.PAT_AGE.astype('int') >= 16)\n",
    "    \n",
    "    # 40-64 year olds\n",
    "    feature = \"MIDDLE_AGED\"\n",
    "    df[feature] = (df.PAT_AGE.astype('int') <= 15) & (df.PAT_AGE.astype('int') >= 11)\n",
    "    \n",
    "    # 18-39 year olds\n",
    "    feature = \"YOUNG_ADULT\"\n",
    "    df[feature] = (df.PAT_AGE.astype('int') <= 10) & (df.PAT_AGE.astype('int') >= 6)\n",
    "    \n",
    "    # below 18\n",
    "    feature = \"YOUTH\"\n",
    "    df[feature] = df.PAT_AGE.astype('int') <= 5\n",
    "    \n",
    "    # patients with HIV\n",
    "    feature = \"HIV_DRUGS_ALCOLHOL_PATIENTS\"\n",
    "    df[feature] = (df.PAT_AGE.astype('int') <= 26) & (df.PAT_AGE.astype('int') >= 22)\n",
    "    \n",
    "    # patients who are transferred from other hospitals/types of care\n",
    "    feature = \"TRANSFERRED_ADMISSION\"\n",
    "    df[feature] = (df.SOURCE_OF_ADMISSION != 8) & (df.SOURCE_OF_ADMISSION != 9) & (df.SOURCE_OF_ADMISSION != 1)\n",
    "    \n",
    "    \n",
    "    \n",
    "    \n",
    "feature_engineering(df)"
   ]
  },
  {
   "cell_type": "markdown",
   "metadata": {},
   "source": [
    "## 1.3 Test-Train Split"
   ]
  },
  {
   "cell_type": "code",
   "execution_count": 223,
   "metadata": {},
   "outputs": [],
   "source": [
    "from sklearn.model_selection import train_test_split\n",
    "\n",
    "target = \"TARGET\"\n",
    "X = df.drop(target, axis=1)\n",
    "y = df[target]\n",
    "df_X_train, df_X_test, df_y_train, df_y_test = train_test_split(X, y, test_size=0.4, stratify=y, random_state=SEED)"
   ]
  },
  {
   "cell_type": "markdown",
   "metadata": {},
   "source": [
    "## 1.4 Encoding of Categorical Features"
   ]
  },
  {
   "cell_type": "markdown",
   "metadata": {},
   "source": [
    "### 1.4.1 Label Binarizer"
   ]
  },
  {
   "cell_type": "code",
   "execution_count": 225,
   "metadata": {},
   "outputs": [],
   "source": [
    "from sklearn.preprocessing import LabelBinarizer\n",
    "\n",
    "def encode_features(df_X_train, df_X_test, cat_LabelBinarize=[], bool_features=[], debug=False):\n",
    "    \n",
    "    # create dataframes to populate\n",
    "    df_X_train_model = df_X_train.loc[:, []]\n",
    "    df_X_test_model = df_X_test.loc[:, []]\n",
    "    \n",
    "    # encoding features using LabelBinarizer\n",
    "    for feature in cat_LabelBinarize:\n",
    "    \n",
    "        if debug: print(feature)\n",
    "            \n",
    "        # fit and transform on train -> fit decides what label goes to each category\n",
    "        lb = LabelBinarizer()\n",
    "        lb_results = lb.fit_transform(df_X_train[feature].astype(\"str\"))\n",
    "        names= [feature+\"_\"+l for l in lb.classes_]\n",
    "        \n",
    "        if debug: print(\"\\t\", names)\n",
    "            \n",
    "        for k, name in enumerate(names):\n",
    "            df_X_train_model[name] = lb_results[:, k]\n",
    "\n",
    "        # transform on test -> this transform uses the fit already stored\n",
    "        lb_results = lb.transform(df_X_test[feature].astype(\"str\"))\n",
    "        names= [feature+\"_\"+l for l in lb.classes_]\n",
    "        \n",
    "        for k, name in enumerate(names):\n",
    "            df_X_test_model[name] = lb_results[:, k]\n",
    "        \n",
    "    for feature in bool_features:\n",
    "        df_X_train_model[feature] = df_X_train[feature].astype(int)\n",
    "        df_X_test_model[feature] = df_X_test[feature].astype(int)\n",
    "    \n",
    "    return df_X_train_model, df_X_test_model\n",
    "\n",
    "cat_features = [\"TYPE_OF_ADMISSION\",\"SOURCE_OF_ADMISSION\",\"PAT_STATE\", \"SEX_CODE\", \"RACE\", \"ETHNICITY\", \"ADMIT_WEEKDAY\", \"PAT_AGE\", \"POA_PROVIDER_INDICATOR\"]\n",
    "bool_features = [\"ADMITTING_DIAGNOSIS_UNCHANGED\", \n",
    "                 \"ADMITTING_DIAGNOSIS_CHANGED\", \n",
    "                 \"SERIOUS_ADMISSION\",\n",
    "                 \"MINOR_ADMISSION\",\n",
    "                 \"WEEKEND_ADMISSION\", \n",
    "                 \"WEEK_ADMISSION\", \n",
    "                 \"TEXAS_PATIENT\", \n",
    "                 \"NON_TEXAS_PATIENT\", \n",
    "                 \"ELDERLY\",\n",
    "                 \"MIDDLE_AGED\",\n",
    "                 \"YOUNG_ADULT\",\n",
    "                 \"YOUTH\",\n",
    "                 \"HIV_DRUGS_ALCOLHOL_PATIENTS\",\n",
    "                 \"TRANSFERRED_ADMISSION\"\n",
    "                ] + [c for c in df.columns if c[:3]==\"FAC\"]\n",
    "\n",
    "df_X_train_model, df_X_test_model = encode_features(df_X_train, df_X_test, cat_LabelBinarize=cat_features, bool_features=bool_features)"
   ]
  },
  {
   "cell_type": "code",
   "execution_count": 226,
   "metadata": {},
   "outputs": [
    {
     "data": {
      "text/plain": [
       "Index(['TYPE_OF_ADMISSION_1', 'TYPE_OF_ADMISSION_2', 'TYPE_OF_ADMISSION_3',\n",
       "       'TYPE_OF_ADMISSION_4', 'TYPE_OF_ADMISSION_5', 'TYPE_OF_ADMISSION_9',\n",
       "       'SOURCE_OF_ADMISSION_1', 'SOURCE_OF_ADMISSION_2',\n",
       "       'SOURCE_OF_ADMISSION_4', 'SOURCE_OF_ADMISSION_5',\n",
       "       'SOURCE_OF_ADMISSION_6', 'SOURCE_OF_ADMISSION_8',\n",
       "       'SOURCE_OF_ADMISSION_9', 'SOURCE_OF_ADMISSION_D', 'PAT_STATE_TX',\n",
       "       'PAT_STATE_XX', 'PAT_STATE_ZZ', 'SEX_CODE_F', 'SEX_CODE_M',\n",
       "       'SEX_CODE_U', 'RACE_1', 'RACE_2', 'RACE_3', 'RACE_4', 'RACE_5',\n",
       "       'ETHNICITY_1', 'ETHNICITY_2', 'ETHNICITY_3', 'ADMIT_WEEKDAY_1',\n",
       "       'ADMIT_WEEKDAY_2', 'ADMIT_WEEKDAY_3', 'ADMIT_WEEKDAY_4',\n",
       "       'ADMIT_WEEKDAY_5', 'ADMIT_WEEKDAY_6', 'ADMIT_WEEKDAY_7', 'PAT_AGE_00',\n",
       "       'PAT_AGE_01', 'PAT_AGE_02', 'PAT_AGE_03', 'PAT_AGE_04', 'PAT_AGE_05',\n",
       "       'PAT_AGE_06', 'PAT_AGE_07', 'PAT_AGE_08', 'PAT_AGE_09', 'PAT_AGE_10',\n",
       "       'PAT_AGE_11', 'PAT_AGE_12', 'PAT_AGE_13', 'PAT_AGE_14', 'PAT_AGE_15',\n",
       "       'PAT_AGE_16', 'PAT_AGE_17', 'PAT_AGE_18', 'PAT_AGE_19', 'PAT_AGE_20',\n",
       "       'PAT_AGE_21', 'PAT_AGE_22', 'PAT_AGE_23', 'PAT_AGE_24', 'PAT_AGE_25',\n",
       "       'PAT_AGE_26', 'POA_PROVIDER_INDICATOR_M', 'POA_PROVIDER_INDICATOR_R',\n",
       "       'POA_PROVIDER_INDICATOR_X', 'ADMITTING_DIAGNOSIS_UNCHANGED',\n",
       "       'ADMITTING_DIAGNOSIS_CHANGED', 'SERIOUS_ADMISSION', 'MINOR_ADMISSION',\n",
       "       'WEEKEND_ADMISSION', 'WEEK_ADMISSION', 'TEXAS_PATIENT',\n",
       "       'NON_TEXAS_PATIENT', 'ELDERLY', 'MIDDLE_AGED', 'YOUNG_ADULT', 'YOUTH',\n",
       "       'HIV_DRUGS_ALCOLHOL_PATIENTS', 'TRANSFERRED_ADMISSION',\n",
       "       'FAC_TEACHING_IND', 'FAC_PSYCH_IND', 'FAC_REHAB_IND',\n",
       "       'FAC_ACUTE_CARE_IND', 'FAC_SNF_IND', 'FAC_LONG_TERM_AC_IND',\n",
       "       'FAC_OTHER_LTC_IND', 'FAC_PEDS_IND', 'FAC_UNKNOWN'],\n",
       "      dtype='object')"
      ]
     },
     "execution_count": 226,
     "metadata": {},
     "output_type": "execute_result"
    }
   ],
   "source": [
    "df_X_train_model.columns"
   ]
  },
  {
   "cell_type": "code",
   "execution_count": 227,
   "metadata": {},
   "outputs": [],
   "source": [
    "# df_X_train_model.drop(columns=features, inplace=True)"
   ]
  },
  {
   "cell_type": "code",
   "execution_count": 228,
   "metadata": {},
   "outputs": [],
   "source": [
    "X_train, y_train = df_X_train_model.values, df_y_train.values\n",
    "X_test, y_test = df_X_test_model.values, df_y_test.values"
   ]
  },
  {
   "cell_type": "code",
   "execution_count": 3,
   "metadata": {},
   "outputs": [],
   "source": [
    "from sklearn.linear_model import LogisticRegression, SGDClassifier\n",
    "from sklearn.svm import SVC\n",
    "from sklearn.neighbors import KNeighborsClassifier\n",
    "from sklearn.tree import DecisionTreeClassifier\n",
    "from sklearn.ensemble import ExtraTreesClassifier, BaggingClassifier, AdaBoostClassifier\n",
    "\n",
    "base_clf = SGDClassifier(loss=\"log\", eta0=10, penalty=\"l1\", learning_rate=\"adaptive\", class_weight=\"balanced\")\n",
    "\n",
    "classifiers = {\n",
    "    \"LogisticRegression\": LogisticRegression(),\n",
    "    # \"LogisticRegressionV1\": LogisticRegression(C=0.1, penalty='l1', solver='liblinear'),\n",
    "    \"ExtraTreeClassifier\": ExtraTreesClassifier(),\n",
    "#     \"ExtraTreeClassifierV1\": ExtraTreesClassifier(bootstrap=False, criterion='gini', max_depth=8, max_features='log2', min_samples_split=2, n_estimators=200),\n",
    "#     \"ExtraTreeClassifierV2\": ExtraTreesClassifier(bootstrap=False, criterion='entropy', max_depth=8, max_features='auto', min_samples_split=5, n_estimators=500),\n",
    "    #\"BaggingClassifier\": BaggingClassifier(base_estimator=base_clf),\n",
    "    \"AdaBoost\": AdaBoostClassifier()\n",
    "}"
   ]
  },
  {
   "cell_type": "markdown",
   "metadata": {},
   "source": [
    "## 1.5 Model Training"
   ]
  },
  {
   "cell_type": "code",
   "execution_count": 231,
   "metadata": {},
   "outputs": [
    {
     "name": "stdout",
     "output_type": "stream",
     "text": [
      "            LogisticRegression has a training score (recall_macro) of 49.41% \n",
      "       ExtraTreeClassifierBase has a training score (recall_macro) of 45.81% \n",
      "         ExtraTreeClassifierV1 has a training score (recall_macro) of 48.55% \n",
      "         ExtraTreeClassifierV2 has a training score (recall_macro) of 48.96% \n",
      "             BaggingClassifier has a training score (recall_macro) of 50.42% \n"
     ]
    }
   ],
   "source": [
    "from sklearn.model_selection import cross_val_score\n",
    "from sklearn.metrics import f1_score, make_scorer\n",
    "\n",
    "metric = 'recall_macro'\n",
    "for name, clf in classifiers.items():\n",
    "    clf.fit(X_train, y_train)\n",
    "    training_score = cross_val_score(clf, X_train, y_train, cv=10, n_jobs=-1,\n",
    "        scoring=metric)\n",
    "    \n",
    "    print(\"%30s has a training score (%s) of %.2f%% \" % (name, metric, 100*training_score.mean()))\n",
    "    \n",
    "#                 LogisticRegression has a training score (recall_macro) of 49.45% \n",
    "#        ExtraTreeClassifierBase has a training score (recall_macro) of 45.63% \n",
    "#          ExtraTreeClassifierV1 has a training score (recall_macro) of 48.35% \n",
    "#          ExtraTreeClassifierV2 has a training score (recall_macro) of 48.88% \n",
    "#              BaggingClassifier has a training score (recall_macro) of 50.40% \n",
    "#                       AdaBoost has a training score (recall_macro) of 49.36% "
   ]
  },
  {
   "cell_type": "code",
   "execution_count": 232,
   "metadata": {},
   "outputs": [],
   "source": [
    "for name in classifiers:\n",
    "    classifiers[name].fit(X_train, y_train)"
   ]
  },
  {
   "cell_type": "markdown",
   "metadata": {},
   "source": [
    "### 1.5.1 Feature Importance"
   ]
  },
  {
   "cell_type": "code",
   "execution_count": 233,
   "metadata": {},
   "outputs": [
    {
     "name": "stdout",
     "output_type": "stream",
     "text": [
      "Feature Ranking\n",
      " 1. feature 81        FAC_REHAB_IND (0.049183)\n",
      " 2. feature 86         FAC_PEDS_IND (0.045532)\n",
      " 3. feature 79     FAC_TEACHING_IND (0.036481)\n",
      " 4. feature 23               RACE_4 (0.030539)\n",
      " 5. feature 28      ADMIT_WEEKDAY_1 (0.028400)\n",
      " 6. feature 29      ADMIT_WEEKDAY_2 (0.028085)\n",
      " 7. feature 31      ADMIT_WEEKDAY_4 (0.027050)\n",
      " 8. feature 30      ADMIT_WEEKDAY_3 (0.026716)\n",
      " 9. feature 80        FAC_PSYCH_IND (0.026176)\n",
      "10. feature 32      ADMIT_WEEKDAY_5 (0.023834)\n",
      "11. feature 62 POA_PROVIDER_INDICATOR_M (0.022446)\n",
      "12. feature 83          FAC_SNF_IND (0.022389)\n",
      "13. feature 63 POA_PROVIDER_INDICATOR_R (0.022149)\n",
      "14. feature 66 ADMITTING_DIAGNOSIS_CHANGED (0.021927)\n",
      "15. feature 65 ADMITTING_DIAGNOSIS_UNCHANGED (0.021924)\n",
      "16. feature 24               RACE_5 (0.021154)\n",
      "17. feature 22               RACE_3 (0.020179)\n",
      "18. feature 17           SEX_CODE_F (0.020039)\n",
      "19. feature 18           SEX_CODE_M (0.019001)\n",
      "20. feature 82   FAC_ACUTE_CARE_IND (0.018141)\n",
      "21. feature 26          ETHNICITY_2 (0.017898)\n",
      "22. feature 25          ETHNICITY_1 (0.017776)\n",
      "23. feature  6 SOURCE_OF_ADMISSION_1 (0.017512)\n",
      "24. feature 64 POA_PROVIDER_INDICATOR_X (0.015677)\n",
      "25. feature  8 SOURCE_OF_ADMISSION_4 (0.015378)\n",
      "26. feature  0  TYPE_OF_ADMISSION_1 (0.014529)\n",
      "27. feature  7 SOURCE_OF_ADMISSION_2 (0.014321)\n",
      "28. feature  2  TYPE_OF_ADMISSION_3 (0.013085)\n",
      "29. feature 75          YOUNG_ADULT (0.012706)\n",
      "30. feature 35           PAT_AGE_00 (0.012319)\n",
      "31. feature 87          FAC_UNKNOWN (0.011957)\n",
      "32. feature 73              ELDERLY (0.011415)\n",
      "33. feature 34      ADMIT_WEEKDAY_7 (0.010609)\n",
      "34. feature 33      ADMIT_WEEKDAY_6 (0.010432)\n",
      "35. feature 51           PAT_AGE_16 (0.010226)\n",
      "36. feature 52           PAT_AGE_17 (0.009971)\n",
      "37. feature 49           PAT_AGE_14 (0.009320)\n",
      "38. feature 48           PAT_AGE_13 (0.009185)\n",
      "39. feature 53           PAT_AGE_18 (0.009160)\n",
      "40. feature 84 FAC_LONG_TERM_AC_IND (0.009133)\n",
      "41. feature 69    WEEKEND_ADMISSION (0.009124)\n",
      "42. feature 50           PAT_AGE_15 (0.009124)\n",
      "43. feature 70       WEEK_ADMISSION (0.009030)\n",
      "44. feature 67    SERIOUS_ADMISSION (0.008918)\n",
      "45. feature  1  TYPE_OF_ADMISSION_2 (0.008916)\n",
      "46. feature  9 SOURCE_OF_ADMISSION_5 (0.008826)\n",
      "47. feature 54           PAT_AGE_19 (0.008359)\n",
      "48. feature 76                YOUTH (0.008338)\n",
      "49. feature 47           PAT_AGE_12 (0.007883)\n",
      "50. feature 68      MINOR_ADMISSION (0.007721)\n",
      "51. feature  3  TYPE_OF_ADMISSION_4 (0.007556)\n",
      "52. feature 46           PAT_AGE_11 (0.007521)\n",
      "53. feature 43           PAT_AGE_08 (0.007382)\n",
      "54. feature 44           PAT_AGE_09 (0.006908)\n",
      "55. feature 55           PAT_AGE_20 (0.006680)\n",
      "56. feature 42           PAT_AGE_07 (0.006613)\n",
      "57. feature 74          MIDDLE_AGED (0.006296)\n",
      "58. feature 21               RACE_2 (0.005939)\n",
      "59. feature 45           PAT_AGE_10 (0.005727)\n",
      "60. feature 56           PAT_AGE_21 (0.005148)\n",
      "61. feature 36           PAT_AGE_01 (0.004391)\n",
      "62. feature 41           PAT_AGE_06 (0.003773)\n",
      "63. feature 59           PAT_AGE_24 (0.003430)\n",
      "64. feature 58           PAT_AGE_23 (0.003367)\n",
      "65. feature 27          ETHNICITY_3 (0.003173)\n",
      "66. feature 40           PAT_AGE_05 (0.003068)\n",
      "67. feature 71        TEXAS_PATIENT (0.003039)\n",
      "68. feature 16         PAT_STATE_ZZ (0.003009)\n",
      "69. feature 10 SOURCE_OF_ADMISSION_6 (0.002999)\n",
      "70. feature 14         PAT_STATE_TX (0.002997)\n",
      "71. feature 72    NON_TEXAS_PATIENT (0.002964)\n",
      "72. feature 39           PAT_AGE_04 (0.002949)\n",
      "73. feature 11 SOURCE_OF_ADMISSION_8 (0.002745)\n",
      "74. feature 37           PAT_AGE_02 (0.002491)\n",
      "75. feature 13 SOURCE_OF_ADMISSION_D (0.002310)\n",
      "76. feature 38           PAT_AGE_03 (0.002303)\n",
      "77. feature 77 HIV_DRUGS_ALCOLHOL_PATIENTS (0.002276)\n",
      "78. feature 19           SEX_CODE_U (0.002116)\n",
      "79. feature  5  TYPE_OF_ADMISSION_9 (0.001780)\n",
      "80. feature 60           PAT_AGE_25 (0.001664)\n",
      "81. feature 12 SOURCE_OF_ADMISSION_9 (0.001653)\n",
      "82. feature 20               RACE_1 (0.001626)\n",
      "83. feature  4  TYPE_OF_ADMISSION_5 (0.001589)\n",
      "84. feature 61           PAT_AGE_26 (0.001104)\n",
      "85. feature 57           PAT_AGE_22 (0.000825)\n",
      "86. feature 85    FAC_OTHER_LTC_IND (0.000288)\n",
      "87. feature 15         PAT_STATE_XX (0.000105)\n",
      "88. feature 78 TRANSFERRED_ADMISSION (0.000000)\n"
     ]
    }
   ],
   "source": [
    "model = \"ExtraTreeClassifierBase\"\n",
    "clf = classifiers[model]\n",
    "\n",
    "if model == \"ExtraTreeClassifierBase\":\n",
    "\n",
    "    importances = clf.feature_importances_\n",
    "    std = np.std([tree.feature_importances_ for tree in clf.estimators_], axis=0)\n",
    "    indices = np.argsort(importances)[::-1]\n",
    "    \n",
    "    print(\"Feature Ranking\")\n",
    "    feature_names = [df_X_train_model.columns[indices[f]] for f in range(importances.shape[0])]\n",
    "    for f in range(importances.shape[0]):\n",
    "        print(\"%2d. feature %2d %20s (%f)\" % (f+1, indices[f], feature_names[f], importances[indices[f]]))"
   ]
  },
  {
   "cell_type": "code",
   "execution_count": 234,
   "metadata": {},
   "outputs": [
    {
     "data": {
      "image/png": "[encoded data removed]",
      "text/plain": [
       "<Figure size 576x1584 with 1 Axes>"
      ]
     },
     "metadata": {},
     "output_type": "display_data"
    }
   ],
   "source": [
    "plt.figure(figsize=(8,22))\n",
    "plt.title(\"Feature Importance\")\n",
    "plt.barh(range(importances.shape[0]), importances[indices], xerr=std[indices], align='center')\n",
    "plt.yticks(range(importances.shape[0]), feature_names)\n",
    "plt.ylim([-1, importances.shape[0]])\n",
    "plt.show()"
   ]
  },
  {
   "cell_type": "markdown",
   "metadata": {},
   "source": [
    "### 1.5.1.1 Delete Unimportant Features"
   ]
  },
  {
   "cell_type": "code",
   "execution_count": 235,
   "metadata": {},
   "outputs": [
    {
     "name": "stdout",
     "output_type": "stream",
     "text": [
      "Feature: PAT_AGE_00 has noise greater than feature importance\n",
      "Feature: SOURCE_OF_ADMISSION_5 has noise greater than feature importance\n",
      "Feature: YOUTH has noise greater than feature importance\n",
      "Feature: MINOR_ADMISSION has noise greater than feature importance\n",
      "Feature: TYPE_OF_ADMISSION_4 has noise greater than feature importance\n",
      "Feature: PAT_AGE_24, Importance: 0.003430438515358998\n",
      "Feature: PAT_AGE_23, Importance: 0.003367293739248778\n",
      "Feature: ETHNICITY_3, Importance: 0.003172551407379419\n",
      "Feature: PAT_AGE_05, Importance: 0.003068146355333449\n",
      "Feature: TEXAS_PATIENT, Importance: 0.003039250974979375\n",
      "Feature: PAT_STATE_ZZ, Importance: 0.0030088168646452778\n",
      "Feature: SOURCE_OF_ADMISSION_6, Importance: 0.0029993963163138463\n",
      "Feature: PAT_STATE_TX, Importance: 0.002996898475464359\n",
      "Feature: NON_TEXAS_PATIENT, Importance: 0.0029637982692530596\n",
      "Feature: PAT_AGE_04, Importance: 0.0029486089323041242\n",
      "Feature: SOURCE_OF_ADMISSION_8, Importance: 0.0027447614386140033\n",
      "Feature: PAT_AGE_02, Importance: 0.0024911637275921695\n",
      "Feature: SOURCE_OF_ADMISSION_D, Importance: 0.002309970240957254\n",
      "Feature: PAT_AGE_03, Importance: 0.002303290496093424\n",
      "Feature: HIV_DRUGS_ALCOLHOL_PATIENTS, Importance: 0.0022759811618867946\n",
      "Feature: SEX_CODE_U, Importance: 0.002116270145429139\n",
      "Feature: TYPE_OF_ADMISSION_9, Importance: 0.0017796816711256674\n",
      "Feature: PAT_AGE_25, Importance: 0.001663512033789634\n",
      "Feature: SOURCE_OF_ADMISSION_9, Importance: 0.0016526414379607274\n",
      "Feature: RACE_1, Importance: 0.001626227229678793\n",
      "Feature: TYPE_OF_ADMISSION_5, Importance: 0.001589205249865703\n",
      "Feature: PAT_AGE_26, Importance: 0.001103969300418787\n",
      "Feature: PAT_AGE_22, Importance: 0.0008248351270163505\n",
      "Feature: FAC_OTHER_LTC_IND, Importance: 0.0002879211522257042\n",
      "Feature: PAT_STATE_XX, Importance: 0.00010459263605327314\n",
      "Feature: TRANSFERRED_ADMISSION, Importance: 0.0\n"
     ]
    }
   ],
   "source": [
    "unimportant_features = []\n",
    "for f in range(importances.shape[0]):\n",
    "    if importances[indices[f]] < 0.0035:\n",
    "        unimportant_features.append(feature_names[f])\n",
    "        print(\"Feature: {0}, Importance: {1}\".format(feature_names[f], importances[indices[f]]))\n",
    "    \n",
    "    if std[indices[f]] > importances[indices[f]]:\n",
    "        if feature_names[f] not in unimportant_features:\n",
    "            unimportant_features.append(feature_names[f])\n",
    "            print(\"Feature: {0} has noise greater than feature importance\".format(feature_names[f]))\n",
    "\n",
    "df_X_train_new_model = df_X_train_model\n",
    "df_X_test_new_model = df_X_test_model\n",
    "\n",
    "df_y_train_new_model = df_y_train\n",
    "df_y_test_new_model = df_y_test\n",
    "\n",
    "df_X_train_new_model.drop(columns=unimportant_features, inplace=True)\n",
    "df_X_test_new_model.drop(columns=unimportant_features, inplace=True)\n",
    "\n",
    "df_y_train_new_model.drop(columns=unimportant_features, inplace=True)\n",
    "df_y_test_new_model.drop(columns=unimportant_features, inplace=True)\n",
    "\n",
    "X_train, y_train = df_X_train_new_model.values, df_y_train_new_model.values\n",
    "X_test, y_test = df_X_test_new_model.values, df_y_test_new_model.values"
   ]
  },
  {
   "cell_type": "markdown",
   "metadata": {},
   "source": [
    "### 1.5.1.2 Retrain"
   ]
  },
  {
   "cell_type": "code",
   "execution_count": 236,
   "metadata": {},
   "outputs": [
    {
     "name": "stdout",
     "output_type": "stream",
     "text": [
      "            LogisticRegression has a training score (recall_macro) of 49.15% \n",
      "       ExtraTreeClassifierBase has a training score (recall_macro) of 45.65% \n",
      "         ExtraTreeClassifierV1 has a training score (recall_macro) of 47.77% \n",
      "         ExtraTreeClassifierV2 has a training score (recall_macro) of 48.03% \n",
      "             BaggingClassifier has a training score (recall_macro) of 50.01% \n"
     ]
    }
   ],
   "source": [
    "metric = 'recall_macro'\n",
    "for name, clf in classifiers.items():\n",
    "    clf.fit(X_train, y_train)\n",
    "    training_score = cross_val_score(clf, X_train, y_train, cv=10, n_jobs=-1,\n",
    "        scoring=metric)\n",
    "    \n",
    "    print(\"%30s has a training score (%s) of %.2f%% \" % (name, metric, 100*training_score.mean()))"
   ]
  },
  {
   "cell_type": "markdown",
   "metadata": {},
   "source": [
    "### 1.5.2 Metrics"
   ]
  },
  {
   "cell_type": "code",
   "execution_count": null,
   "metadata": {},
   "outputs": [],
   "source": [
    "# pd.crosstab(df_pred.true.map(target_labels), df_pred[model].map(target_labels), rownames=['True'], colnames=['Predicted'])"
   ]
  },
  {
   "cell_type": "code",
   "execution_count": null,
   "metadata": {},
   "outputs": [],
   "source": [
    "# from sklearn.metrics import classification_report \n",
    "# print(classification_report(df_pred.true, df_pred[model], target_names=le_target.inverse_transform([0,1,2])))"
   ]
  },
  {
   "cell_type": "markdown",
   "metadata": {},
   "source": [
    "### 1.5.3 Hyper-Parameter Tuning"
   ]
  },
  {
   "cell_type": "code",
   "execution_count": 6,
   "metadata": {},
   "outputs": [],
   "source": [
    "from sklearn.model_selection import GridSearchCV\n",
    "\n",
    "param_space = {\n",
    "    \n",
    "    \"LogisticRegression\": {\n",
    "        \"solver\":[\"liblinear\"],\n",
    "        \"penalty\": ['l1', 'l2'], \n",
    "        \"C\": [0.001, 0.01, 0.1, 1, 10, 100, 1000]\n",
    "    },\n",
    "    \n",
    "    \"ExtraTreeClassifier\": {\n",
    "        \"n_estimators\":[200, 500],\n",
    "        \"max_features\":[\"auto\", \"sqrt\", \"log2\"],\n",
    "        \"min_samples_split\":[2,5,10],\n",
    "        \"max_depth\": [6,7,8],\n",
    "        \"criterion\":[\"gini\", \"entropy\"],\n",
    "        \"bootstrap\":[True, False]\n",
    "    },\n",
    "#     \"BaggingClassifier\": {\n",
    "#         \"max_samples\": [0.5, 1.0],\n",
    "#         \"max_features\": [1, 2, 4],\n",
    "#         \"bootstrap\": [True, False],\n",
    "#         \"bootstrap_features\": [True, False]\n",
    "#     },\n",
    "    \"AdaBoost\": {\n",
    "        'n_estimators': [200,500],\n",
    "        'learning_rate' : [0.05,0.1,0.3,1],\n",
    "        'loss' : ['linear', 'square', 'exponential']\n",
    "    }\n",
    "}\n",
    "    \n",
    "\n",
    "best_classifiers = {}"
   ]
  },
  {
   "cell_type": "code",
   "execution_count": null,
   "metadata": {},
   "outputs": [],
   "source": [
    "if HYPER_TUNING == True:\n",
    "\n",
    "    for name, clf in classifiers.items():\n",
    "\n",
    "        param = param_space[name]\n",
    "        print(\"\\n\\nPerforming GridSearchCV on %s...\" % name)\n",
    "        clf = GridSearchCV(classifiers[name], param, cv=5, scoring=metric )\n",
    "\n",
    "        clf.fit(X_train, y_train)\n",
    "        best_classifiers[name] = clf\n",
    "\n",
    "        score = cross_val_score(clf, X_train, y_train, cv=10)\n",
    "        print(best_classifiers[name])\n",
    "        print(\"%s Cross Validation Score (%s): %.2f%%\" % (name, metric, 100*score.mean()))\n",
    "\n",
    "        print(\"\\nBest Params: \\n\")\n",
    "        print(best_classifiers[name].best_params_)"
   ]
  },
  {
   "cell_type": "code",
   "execution_count": null,
   "metadata": {},
   "outputs": [],
   "source": [
    "from sklearn.model_selection import cross_val_predict\n",
    "from sklearn.metrics import f1_score\n",
    "\n",
    "if HYPER_TUNING == True:\n",
    "\n",
    "    best_classifier_pred = {}\n",
    "    for name in classifiers:\n",
    "        pred = cross_val_predict(best_classifiers[name], X_train, y_train, cv=10)\n",
    "        best_classifier_pred[name] = pred\n",
    "\n",
    "    best_classifier_pred['true'] = y_train\n",
    "    df_best_pred = pd.DataFrame(best_classifier_pred)"
   ]
  },
  {
   "cell_type": "markdown",
   "metadata": {},
   "source": [
    "## 1.6 Grading"
   ]
  },
  {
   "cell_type": "code",
   "execution_count": 43,
   "metadata": {},
   "outputs": [],
   "source": [
    "df.to_csv(\"data/test.csv\", index=False)"
   ]
  },
  {
   "cell_type": "code",
   "execution_count": 44,
   "metadata": {},
   "outputs": [
    {
     "data": {
      "text/plain": [
       "(100000, 193)"
      ]
     },
     "execution_count": 44,
     "metadata": {},
     "output_type": "execute_result"
    }
   ],
   "source": [
    "df_grading = pd.read_csv(f\"data/grading.csv\", dtype=str)\n",
    "df_grading.shape"
   ]
  },
  {
   "cell_type": "code",
   "execution_count": 45,
   "metadata": {},
   "outputs": [
    {
     "data": {
      "text/plain": [
       "(100000, 202)"
      ]
     },
     "execution_count": 45,
     "metadata": {},
     "output_type": "execute_result"
    }
   ],
   "source": [
    "df_grading = pd.merge(df_grading, df_facility, on=\"THCIC_ID\", how=\"left\")\n",
    "df_grading.shape"
   ]
  },
  {
   "cell_type": "code",
   "execution_count": 46,
   "metadata": {},
   "outputs": [],
   "source": [
    "df_grading[\"FAC_UNKNOWN\"] = df_grading.FAC_OTHER_LTC_IND.isnull().astype(int)\n",
    "\n",
    "for c in df.columns:\n",
    "    if c [:3]==\"FAC\":\n",
    "        df_grading[c].fillna(0, inplace=True)"
   ]
  },
  {
   "cell_type": "markdown",
   "metadata": {},
   "source": [
    "### 1.6.1. Encoding `df_grading`"
   ]
  },
  {
   "cell_type": "code",
   "execution_count": 47,
   "metadata": {},
   "outputs": [
    {
     "name": "stdout",
     "output_type": "stream",
     "text": [
      "Feature TYPE_OF_ADMISSION -> ['2' '1' '3' '4' '5' '9']\n",
      "Feature SOURCE_OF_ADMISSION -> ['1' '2' '5' '6' 'D' '4' '8' '9' '0']\n",
      "Feature PAT_STATE -> ['TX' 'ZZ' 'XX']\n",
      "Feature SEX_CODE -> ['F' 'M' 'U']\n",
      "Feature RACE -> ['4' '5' '3' '2' '1']\n",
      "Feature ETHNICITY -> ['1' '2' '3']\n"
     ]
    }
   ],
   "source": [
    "my_lib.clean_categories(df_grading)"
   ]
  },
  {
   "cell_type": "code",
   "execution_count": 51,
   "metadata": {},
   "outputs": [],
   "source": [
    "feature_engineering(df_grading)\n",
    "\n",
    "cat_features = [\"TYPE_OF_ADMISSION\",\"SOURCE_OF_ADMISSION\",\"PAT_STATE\", \"SEX_CODE\", \"RACE\", \"ETHNICITY\", \"ADMIT_WEEKDAY\", \"PAT_AGE\", \"POA_PROVIDER_INDICATOR\"]\n",
    "bool_features = [\"ADMITTING_DIAGNOSIS_UNCHANGED\", \"ADMITTING_DIAGNOSIS_CHANGED\", \"WEEKEND_ADMISSION\", \"WEEK_ADMISSION\", \"TEXAS_PATIENT\", \"NON_TEXAS_PATIENT\"] + [c for c in df.columns if c[:3]==\"FAC\"]\n",
    "\n",
    "df_X_train_model, df_X_test_model = encode_features(df_X_train, df_grading, cat_LabelBinarize=cat_features, bool_features=bool_features)"
   ]
  },
  {
   "cell_type": "markdown",
   "metadata": {},
   "source": [
    "### 1.6.2. Make Predictions"
   ]
  },
  {
   "cell_type": "code",
   "execution_count": 52,
   "metadata": {},
   "outputs": [],
   "source": [
    "model = \"BaggingClassifier\"\n",
    "df_grading['TARGET'] = classifiers[model].fit(df_X_train_model, y_train).predict(df_X_test_model)\n",
    "df_grading['TARGET'] = df_grading['TARGET'].map(target_labels)"
   ]
  },
  {
   "cell_type": "markdown",
   "metadata": {},
   "source": [
    "### 1.6.3. Save Predictions"
   ]
  },
  {
   "cell_type": "code",
   "execution_count": 53,
   "metadata": {},
   "outputs": [],
   "source": [
    "df_grading.loc[:, [\"RECORD_ID\", \"TARGET\"]].to_csv(\"df_grading_pred.csv\", index=False)"
   ]
  },
  {
   "cell_type": "markdown",
   "metadata": {},
   "source": [
    "### 1.6.4. Generate Archive"
   ]
  },
  {
   "cell_type": "code",
   "execution_count": 54,
   "metadata": {},
   "outputs": [
    {
     "name": "stdout",
     "output_type": "stream",
     "text": [
      "Creating archive: my_assignment.zip\n",
      "\t01-Import.ipynb - OK\n",
      "\t02-EDA.ipynb - OK\n",
      "\t03-Model.ipynb - OK\n",
      "\tmy_lib.py - OK\n",
      "\tdf_grading_pred.csv - OK\n"
     ]
    }
   ],
   "source": [
    "my_lib.make_assignment()"
   ]
  },
  {
   "cell_type": "code",
   "execution_count": null,
   "metadata": {},
   "outputs": [],
   "source": []
  }
 ],
 "metadata": {
  "kernelspec": {
   "display_name": "Python 3",
   "language": "python",
   "name": "python3"
  },
  "language_info": {
   "codemirror_mode": {
    "name": "ipython",
    "version": 3
   },
   "file_extension": ".py",
   "mimetype": "text/x-python",
   "name": "python",
   "nbconvert_exporter": "python",
   "pygments_lexer": "ipython3",
   "version": "3.6.8"
  }
 },
 "nbformat": 4,
 "nbformat_minor": 4
}
