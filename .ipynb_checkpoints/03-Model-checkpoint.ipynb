{
 "cells": [
  {
   "cell_type": "markdown",
   "metadata": {
    "Collapsed": "false"
   },
   "source": [
    "# Texas Hospital Discharge - EDA"
   ]
  },
  {
   "cell_type": "code",
   "execution_count": 29,
   "metadata": {
    "Collapsed": "false"
   },
   "outputs": [],
   "source": [
    "import pandas as pd\n",
    "import numpy as np\n",
    "import matplotlib.pyplot as plt\n",
    "import matplotlib\n",
    "\n",
    "import seaborn as sns\n",
    "sns.set_style(\"darkgrid\")\n",
    "\n",
    "from IPython.display import display, Markdown\n",
    "pd.set_option('display.max_columns', None)  \n",
    "\n",
    "import glob, os\n",
    "\n",
    "HYPER_TUNING = False\n",
    "DEBUG = False\n",
    "SEED = 42"
   ]
  },
  {
   "cell_type": "code",
   "execution_count": 30,
   "metadata": {
    "Collapsed": "false"
   },
   "outputs": [
    {
     "name": "stdout",
     "output_type": "stream",
     "text": [
      "The autoreload extension is already loaded. To reload it, use:\n",
      "  %reload_ext autoreload\n"
     ]
    }
   ],
   "source": [
    "%load_ext autoreload\n",
    "%autoreload 2\n",
    "\n",
    "import my_lib"
   ]
  },
  {
   "cell_type": "code",
   "execution_count": 31,
   "metadata": {},
   "outputs": [
    {
     "data": {
      "text/plain": [
       "(49984, 195)"
      ]
     },
     "execution_count": 31,
     "metadata": {},
     "output_type": "execute_result"
    }
   ],
   "source": [
    "df_patients = pd.read_csv(\"data/df_train_sample_01_of_20.csv\", dtype=str)\n",
    "df_patients.shape"
   ]
  },
  {
   "cell_type": "code",
   "execution_count": 32,
   "metadata": {},
   "outputs": [
    {
     "data": {
      "text/plain": [
       "(606, 10)"
      ]
     },
     "execution_count": 32,
     "metadata": {},
     "output_type": "execute_result"
    }
   ],
   "source": [
    "df_facility = pd.read_csv(\"data/facility.csv\", dtype = str)\n",
    "df_facility.shape"
   ]
  },
  {
   "cell_type": "code",
   "execution_count": 33,
   "metadata": {},
   "outputs": [
    {
     "data": {
      "text/plain": [
       "(49984, 204)"
      ]
     },
     "execution_count": 33,
     "metadata": {},
     "output_type": "execute_result"
    }
   ],
   "source": [
    "df = pd.merge(df_patients, df_facility, on=\"THCIC_ID\", how=\"left\")\n",
    "df.shape"
   ]
  },
  {
   "cell_type": "code",
   "execution_count": 34,
   "metadata": {},
   "outputs": [],
   "source": [
    "df[\"FAC_UNKNOWN\"] = df.FAC_OTHER_LTC_IND.isnull().astype(int)"
   ]
  },
  {
   "cell_type": "code",
   "execution_count": 35,
   "metadata": {},
   "outputs": [],
   "source": [
    "for c in df.columns:\n",
    "    if c [:3]==\"FAC\":\n",
    "        df[c].fillna(0, inplace=True)"
   ]
  },
  {
   "cell_type": "markdown",
   "metadata": {},
   "source": [
    "## 1. Encode Target"
   ]
  },
  {
   "cell_type": "code",
   "execution_count": 36,
   "metadata": {},
   "outputs": [
    {
     "name": "stdout",
     "output_type": "stream",
     "text": [
      "{0: 'long', 1: 'medium', 2: 'short'}\n"
     ]
    }
   ],
   "source": [
    "from sklearn.preprocessing import LabelEncoder\n",
    "if df['TARGET'].dtype!=int:\n",
    "    le_target = LabelEncoder()\n",
    "    df['TARGET']= le_target.fit_transform(df['TARGET'])\n",
    "else:\n",
    "    pass\n",
    "\n",
    "target_labels = {c:le_target.inverse_transform([c])[0] for c in [0,1,2]}\n",
    "print(target_labels)"
   ]
  },
  {
   "cell_type": "markdown",
   "metadata": {},
   "source": [
    "## 1.1 Applying Cleaned Cat. Features"
   ]
  },
  {
   "cell_type": "code",
   "execution_count": 37,
   "metadata": {},
   "outputs": [
    {
     "name": "stdout",
     "output_type": "stream",
     "text": [
      "Feature TYPE_OF_ADMISSION -> ['3' '1' '2' '4' '5' '9']\n",
      "Feature SOURCE_OF_ADMISSION -> ['4' '1' '2' '8' '5' '9' '6' 'D']\n",
      "Feature PAT_STATE -> ['TX' 'ZZ' 'XX']\n",
      "Feature SEX_CODE -> ['F' 'M' 'U']\n",
      "Feature RACE -> ['4' '5' '3' '2' '1']\n",
      "Feature ETHNICITY -> ['2' '1' '3']\n"
     ]
    }
   ],
   "source": [
    "my_lib.clean_categories(df)"
   ]
  },
  {
   "cell_type": "markdown",
   "metadata": {},
   "source": [
    "## 1.2 Feature Engineering"
   ]
  },
  {
   "cell_type": "code",
   "execution_count": 38,
   "metadata": {},
   "outputs": [],
   "source": [
    "def feature_engineering(df):\n",
    "    \n",
    "    feature = \"ADMITTING_DIAGNOSIS_UNCHANGED\"\n",
    "    df[feature] = (df.ADMITTING_DIAGNOSIS==df.PRINC_DIAG_CODE) & (df.POA_PRINC_DIAG_CODE==\"Y\")\n",
    "    \n",
    "    feature = \"ADMITTING_DIAGNOSIS_CHANGED\"\n",
    "    df[feature] = (df.ADMITTING_DIAGNOSIS!=df.PRINC_DIAG_CODE) & (df.POA_PRINC_DIAG_CODE==\"Y\")\n",
    "    \n",
    "    # admitted via type 'urgent' or 'trauma center' should result in longer stays\n",
    "    feature = \"SERIOUS_ADMISSION\"\n",
    "    df[feature] = (df.TYPE_OF_ADMISSION==\"2\") | (df.TYPE_OF_ADMISSION==\"5\")\n",
    "    \n",
    "    # admitted via type 'newborn' should result in shorter stays\n",
    "    feature = \"MINOR_ADMISSION\"\n",
    "    df[feature] = (df.TYPE_OF_ADMISSION==\"4\")\n",
    "    \n",
    "    \n",
    "feature_engineering(df)"
   ]
  },
  {
   "cell_type": "markdown",
   "metadata": {},
   "source": [
    "## 1.3 Test-Train Split"
   ]
  },
  {
   "cell_type": "code",
   "execution_count": 39,
   "metadata": {},
   "outputs": [],
   "source": [
    "from sklearn.model_selection import train_test_split\n",
    "\n",
    "target = \"TARGET\"\n",
    "X = df.drop(target, axis=1)\n",
    "y = df[target]\n",
    "df_X_train, df_X_test, df_y_train, df_y_test = train_test_split(X, y, test_size=0.4, stratify=y, random_state=SEED)"
   ]
  },
  {
   "cell_type": "markdown",
   "metadata": {},
   "source": [
    "## 1.4 Encoding of Categorical Features"
   ]
  },
  {
   "cell_type": "markdown",
   "metadata": {},
   "source": [
    "### 1.4.1 Label Binarizer"
   ]
  },
  {
   "cell_type": "code",
   "execution_count": 40,
   "metadata": {},
   "outputs": [],
   "source": [
    "from sklearn.preprocessing import LabelBinarizer\n",
    "\n",
    "def encode_features(df_X_train, df_X_test, cat_LabelBinarize=[], bool_features=[], debug=False):\n",
    "    \n",
    "    # create dataframes to populate\n",
    "    df_X_train_model = df_X_train.loc[:, []]\n",
    "    df_X_test_model = df_X_test.loc[:, []]\n",
    "    \n",
    "    # encoding features using LabelBinarizer\n",
    "    for feature in cat_LabelBinarize:\n",
    "    \n",
    "        if debug: print(feature)\n",
    "            \n",
    "        # fit and transform on train -> fit decides what label goes to each category\n",
    "        lb = LabelBinarizer()\n",
    "        lb_results = lb.fit_transform(df_X_train[feature].astype(\"str\"))\n",
    "        names= [feature+\"_\"+l for l in lb.classes_]\n",
    "        \n",
    "        if debug: print(\"\\t\", names)\n",
    "            \n",
    "        for k, name in enumerate(names):\n",
    "            df_X_train_model[name] = lb_results[:, k]\n",
    "\n",
    "        # transform on test -> this transform uses the fit already stored\n",
    "        lb_results = lb.transform(df_X_test[feature].astype(\"str\"))\n",
    "        names= [feature+\"_\"+l for l in lb.classes_]\n",
    "        \n",
    "        for k, name in enumerate(names):\n",
    "            df_X_test_model[name] = lb_results[:, k]\n",
    "        \n",
    "    for feature in bool_features:\n",
    "        df_X_train_model[feature] = df_X_train[feature].astype(int)\n",
    "        df_X_test_model[feature] = df_X_test[feature].astype(int)\n",
    "    \n",
    "    return df_X_train_model, df_X_test_model\n",
    "\n",
    "cat_features = [\"TYPE_OF_ADMISSION\",\"SOURCE_OF_ADMISSION\",\"PAT_STATE\", \"SEX_CODE\", \"RACE\", \"ETHNICITY\", \"ADMIT_WEEKDAY\", \"PAT_AGE\", \"POA_PROVIDER_INDICATOR\"]\n",
    "bool_features = [\"ADMITTING_DIAGNOSIS_UNCHANGED\", \"ADMITTING_DIAGNOSIS_CHANGED\"] + [c for c in df.columns if c[:3]==\"FAC\"]\n",
    "\n",
    "df_X_train_model, df_X_test_model = encode_features(df_X_train, df_X_test, cat_LabelBinarize=cat_features, bool_features=bool_features)"
   ]
  },
  {
   "cell_type": "code",
   "execution_count": 41,
   "metadata": {},
   "outputs": [
    {
     "data": {
      "text/plain": [
       "Index(['TYPE_OF_ADMISSION_1', 'TYPE_OF_ADMISSION_2', 'TYPE_OF_ADMISSION_3',\n",
       "       'TYPE_OF_ADMISSION_4', 'TYPE_OF_ADMISSION_5', 'TYPE_OF_ADMISSION_9',\n",
       "       'SOURCE_OF_ADMISSION_1', 'SOURCE_OF_ADMISSION_2',\n",
       "       'SOURCE_OF_ADMISSION_4', 'SOURCE_OF_ADMISSION_5',\n",
       "       'SOURCE_OF_ADMISSION_6', 'SOURCE_OF_ADMISSION_8',\n",
       "       'SOURCE_OF_ADMISSION_9', 'SOURCE_OF_ADMISSION_D',\n",
       "       'ADMITTING_DIAGNOSIS_UNCHANGED', 'ADMITTING_DIAGNOSIS_CHANGED',\n",
       "       'FAC_TEACHING_IND', 'FAC_PSYCH_IND', 'FAC_REHAB_IND',\n",
       "       'FAC_ACUTE_CARE_IND', 'FAC_SNF_IND', 'FAC_LONG_TERM_AC_IND',\n",
       "       'FAC_OTHER_LTC_IND', 'FAC_PEDS_IND', 'FAC_UNKNOWN'],\n",
       "      dtype='object')"
      ]
     },
     "execution_count": 41,
     "metadata": {},
     "output_type": "execute_result"
    }
   ],
   "source": [
    "df_X_train_model.columns"
   ]
  },
  {
   "cell_type": "code",
   "execution_count": 42,
   "metadata": {},
   "outputs": [],
   "source": [
    "# df_X_train_model.drop(columns=features, inplace=True)"
   ]
  },
  {
   "cell_type": "code",
   "execution_count": 43,
   "metadata": {},
   "outputs": [],
   "source": [
    "X_train, y_train = df_X_train_model.values, df_y_train.values\n",
    "X_test, y_test = df_X_test_model.values, df_y_test.values"
   ]
  },
  {
   "cell_type": "code",
   "execution_count": 44,
   "metadata": {},
   "outputs": [],
   "source": [
    "from sklearn.linear_model import LogisticRegression, SGDClassifier\n",
    "from sklearn.svm import SVC\n",
    "from sklearn.neighbors import KNeighborsClassifier\n",
    "from sklearn.tree import DecisionTreeClassifier\n",
    "from sklearn.ensemble import ExtraTreesClassifier, BaggingClassifier\n",
    "\n",
    "base_clf = SGDClassifier(loss=\"log\", eta0=10, penalty=\"l1\", learning_rate=\"adaptive\", class_weight=\"balanced\")\n",
    "\n",
    "classifiers = {\n",
    "    \"LogisticRegression\": LogisticRegression(C=0.1, penalty='l1', solver='liblinear'),\n",
    "    \"ExtraTreeClassifierV1\": ExtraTreesClassifier(bootstrap=False, criterion='gini', max_depth=8, max_features='log2', min_samples_split=2, n_estimators=200),\n",
    "    \"ExtraTreeClassifierV2\": ExtraTreesClassifier(bootstrap=False, criterion='entropy', max_depth=8, max_features='auto', min_samples_split=5, n_estimators=500),\n",
    "    \"BaggingClassifier\": BaggingClassifier(base_estimator=base_clf)\n",
    "}"
   ]
  },
  {
   "cell_type": "markdown",
   "metadata": {},
   "source": [
    "## 1.5 Model Training"
   ]
  },
  {
   "cell_type": "code",
   "execution_count": 45,
   "metadata": {},
   "outputs": [
    {
     "name": "stdout",
     "output_type": "stream",
     "text": [
      "            LogisticRegression has a training score (recall_macro) of 46.89% \n",
      "         ExtraTreeClassifierV1 has a training score (recall_macro) of 46.85% \n",
      "         ExtraTreeClassifierV2 has a training score (recall_macro) of 46.97% \n",
      "             BaggingClassifier has a training score (recall_macro) of 47.61% \n"
     ]
    }
   ],
   "source": [
    "from sklearn.model_selection import cross_val_score\n",
    "from sklearn.metrics import f1_score, make_scorer\n",
    "\n",
    "metric = 'recall_macro'\n",
    "for name, clf in classifiers.items():\n",
    "    clf.fit(X_train, y_train)\n",
    "    training_score = cross_val_score(clf, X_train, y_train, cv=10, n_jobs=-1,\n",
    "        scoring=metric)\n",
    "    \n",
    "    print(\"%30s has a training score (%s) of %.2f%% \" % (name, metric, 100*training_score.mean()))"
   ]
  },
  {
   "cell_type": "code",
   "execution_count": 46,
   "metadata": {},
   "outputs": [],
   "source": [
    "for name in classifiers:\n",
    "    classifiers[name].fit(X_train, y_train)"
   ]
  },
  {
   "cell_type": "markdown",
   "metadata": {},
   "source": [
    "### 1.5.1 Feature Importance"
   ]
  },
  {
   "cell_type": "code",
   "execution_count": 47,
   "metadata": {},
   "outputs": [
    {
     "name": "stdout",
     "output_type": "stream",
     "text": [
      "Feature Ranking\n",
      " 1. feature  3  TYPE_OF_ADMISSION_4 (0.176229)\n",
      " 2. feature  8 SOURCE_OF_ADMISSION_4 (0.140408)\n",
      " 3. feature  9 SOURCE_OF_ADMISSION_5 (0.116663)\n",
      " 4. feature 19   FAC_ACUTE_CARE_IND (0.090003)\n",
      " 5. feature 21 FAC_LONG_TERM_AC_IND (0.057497)\n",
      " 6. feature 15 ADMITTING_DIAGNOSIS_CHANGED (0.053920)\n",
      " 7. feature  2  TYPE_OF_ADMISSION_3 (0.038045)\n",
      " 8. feature 14 ADMITTING_DIAGNOSIS_UNCHANGED (0.035590)\n",
      " 9. feature  6 SOURCE_OF_ADMISSION_1 (0.035134)\n",
      "10. feature  0  TYPE_OF_ADMISSION_1 (0.034860)\n",
      "11. feature  7 SOURCE_OF_ADMISSION_2 (0.033013)\n",
      "12. feature 17        FAC_PSYCH_IND (0.031779)\n",
      "13. feature  1  TYPE_OF_ADMISSION_2 (0.027441)\n",
      "14. feature 18        FAC_REHAB_IND (0.026945)\n",
      "15. feature 24          FAC_UNKNOWN (0.023977)\n",
      "16. feature 23         FAC_PEDS_IND (0.019531)\n",
      "17. feature 16     FAC_TEACHING_IND (0.016862)\n",
      "18. feature 13 SOURCE_OF_ADMISSION_D (0.014670)\n",
      "19. feature 11 SOURCE_OF_ADMISSION_8 (0.010506)\n",
      "20. feature 10 SOURCE_OF_ADMISSION_6 (0.006397)\n",
      "21. feature 20          FAC_SNF_IND (0.004999)\n",
      "22. feature  4  TYPE_OF_ADMISSION_5 (0.002116)\n",
      "23. feature 12 SOURCE_OF_ADMISSION_9 (0.001653)\n",
      "24. feature  5  TYPE_OF_ADMISSION_9 (0.000925)\n",
      "25. feature 22    FAC_OTHER_LTC_IND (0.000841)\n"
     ]
    }
   ],
   "source": [
    "model = \"ExtraTreeClassifierV1\"\n",
    "clf = classifiers[model]\n",
    "\n",
    "if model == \"ExtraTreeClassifierV1\":\n",
    "\n",
    "    importances = clf.feature_importances_\n",
    "    std = np.std([tree.feature_importances_ for tree in clf.estimators_], axis=0)\n",
    "    indices = np.argsort(importances)[::-1]\n",
    "    \n",
    "    print(\"Feature Ranking\")\n",
    "    feature_names = [df_X_train_model.columns[indices[f]] for f in range(importances.shape[0])]\n",
    "    for f in range(importances.shape[0]):\n",
    "        print(\"%2d. feature %2d %20s (%f)\" % (f+1, indices[f], feature_names[f], importances[indices[f]]))\n",
    "        "
   ]
  },
  {
   "cell_type": "code",
   "execution_count": 158,
   "metadata": {},
   "outputs": [
    {
     "data": {
      "image/png": "[encoded data removed]",
      "text/plain": [
       "<Figure size 576x1584 with 1 Axes>"
      ]
     },
     "metadata": {},
     "output_type": "display_data"
    }
   ],
   "source": [
    "plt.figure(figsize=(8,22))\n",
    "plt.title(\"Feature Importance\")\n",
    "plt.barh(range(importances.shape[0]), importances[indices], xerr=std[indices], align='center')\n",
    "plt.yticks(range(importances.shape[0]), feature_names)\n",
    "plt.ylim([-1, importances.shape[0]])\n",
    "plt.show()"
   ]
  },
  {
   "cell_type": "markdown",
   "metadata": {},
   "source": [
    "### 1.5.1.1 Delete Unimportant Features"
   ]
  },
  {
   "cell_type": "code",
   "execution_count": 97,
   "metadata": {},
   "outputs": [],
   "source": [
    "# unimportant_features = ['PAT_STATE_XX','TYPE_OF_ADMISSION_9','RACE_1','SOURCE_OF_ADMISSION_9','TYPE_OF_ADMISSION_5','ADMIT_WEEKDAY_4']\n",
    "# df_X_train_new_model = df_X_train_model\n",
    "# df_X_train_new_model.drop(columns=unimportant_features, inplace=True)\n",
    "\n",
    "# X_train, y_train = df_X_train_model.values, df_y_train.values\n",
    "# X_test, y_test = df_X_train_model.values, df_y_test.values"
   ]
  },
  {
   "cell_type": "markdown",
   "metadata": {},
   "source": [
    "### 1.5.1.2 Retrain"
   ]
  },
  {
   "cell_type": "code",
   "execution_count": 98,
   "metadata": {},
   "outputs": [
    {
     "name": "stdout",
     "output_type": "stream",
     "text": [
      "           ExtraTreeClassifier has a training score (recall_macro) of 45.35% \n"
     ]
    }
   ],
   "source": [
    "# metric = 'recall_macro'\n",
    "# for name, clf in classifiers.items():\n",
    "#     clf.fit(X_train, y_train)\n",
    "#     training_score = cross_val_score(clf, X_train, y_train, cv=10, n_jobs=-1,\n",
    "#         scoring=metric)\n",
    "    \n",
    "#     print(\"%30s has a training score (%s) of %.2f%% \" % (name, metric, 100*training_score.mean()))"
   ]
  },
  {
   "cell_type": "markdown",
   "metadata": {},
   "source": [
    "### 1.5.2 Metrics"
   ]
  },
  {
   "cell_type": "code",
   "execution_count": 122,
   "metadata": {},
   "outputs": [],
   "source": [
    "# pd.crosstab(df_pred.true.map(target_labels), df_pred[model].map(target_labels), rownames=['True'], colnames=['Predicted'])"
   ]
  },
  {
   "cell_type": "code",
   "execution_count": 123,
   "metadata": {},
   "outputs": [],
   "source": [
    "# from sklearn.metrics import classification_report \n",
    "# print(classification_report(df_pred.true, df_pred[model], target_names=le_target.inverse_transform([0,1,2])))"
   ]
  },
  {
   "cell_type": "markdown",
   "metadata": {},
   "source": [
    "### 1.5.3 Hyper-Parameter Tuning"
   ]
  },
  {
   "cell_type": "code",
   "execution_count": 22,
   "metadata": {},
   "outputs": [],
   "source": [
    "from sklearn.model_selection import GridSearchCV\n",
    "\n",
    "param_space = {\n",
    "    \n",
    "    \"LogisticRegression\": {\n",
    "        \"solver\":[\"liblinear\"],\n",
    "        \"penalty\": ['l1', 'l2'], \n",
    "        \"C\": [0.001, 0.01, 0.1, 1, 10, 100, 1000]\n",
    "    },\n",
    "    \n",
    "    \"ExtraTreeClassifier\": {\n",
    "        \"n_estimators\":[200, 500],\n",
    "        \"max_features\":[\"auto\", \"sqrt\", \"log2\"],\n",
    "        \"min_samples_split\":[2,5,10],\n",
    "        \"max_depth\": [4,5,6,7,8],\n",
    "        \"criterion\":[\"gini\", \"entropy\"],\n",
    "        \"bootstrap\":[True, False]\n",
    "    },\n",
    "    \"BaggingClassifier\": {\n",
    "        \"max_samples\": [0.5, 1.0],\n",
    "        \"max_features\": [1, 2, 4],\n",
    "        \"bootstrap\": [True, False],\n",
    "        \"bootstrap_features\": [True, False]\n",
    "    }\n",
    "}\n",
    "    \n",
    "\n",
    "best_classifiers = {}"
   ]
  },
  {
   "cell_type": "code",
   "execution_count": 23,
   "metadata": {},
   "outputs": [
    {
     "name": "stdout",
     "output_type": "stream",
     "text": [
      "\n",
      "\n",
      "Performing GridSearchCV on ExtraTreeClassifier...\n",
      "GridSearchCV(cv=5, error_score=nan,\n",
      "             estimator=ExtraTreesClassifier(bootstrap=False, ccp_alpha=0.0,\n",
      "                                            class_weight=None, criterion='gini',\n",
      "                                            max_depth=None, max_features='auto',\n",
      "                                            max_leaf_nodes=None,\n",
      "                                            max_samples=None,\n",
      "                                            min_impurity_decrease=0.0,\n",
      "                                            min_impurity_split=None,\n",
      "                                            min_samples_leaf=1,\n",
      "                                            min_samples_split=2,\n",
      "                                            min_weight_fraction_leaf=0.0,\n",
      "                                            n_estimators=100, n_jobs=None,\n",
      "                                            o...dom_state=None,\n",
      "                                            verbose=0, warm_start=False),\n",
      "             iid='deprecated', n_jobs=None,\n",
      "             param_grid={'bootstrap': [True, False],\n",
      "                         'criterion': ['gini', 'entropy'],\n",
      "                         'max_depth': [4, 5, 6, 7, 8],\n",
      "                         'max_features': ['auto', 'sqrt', 'log2'],\n",
      "                         'min_samples_split': [2, 5, 10],\n",
      "                         'n_estimators': [200, 500]},\n",
      "             pre_dispatch='2*n_jobs', refit=True, return_train_score=False,\n",
      "             scoring='recall_macro', verbose=0)\n",
      "ExtraTreeClassifier Cross Validation Score (recall_macro): 48.47%\n",
      "Best Params: \n",
      "\n",
      "{'bootstrap': False, 'criterion': 'entropy', 'max_depth': 8, 'max_features': 'auto', 'min_samples_split': 5, 'n_estimators': 500}\n",
      "\n",
      "\n",
      "Performing GridSearchCV on BaggingClassifier...\n",
      "GridSearchCV(cv=5, error_score=nan,\n",
      "             estimator=BaggingClassifier(base_estimator=SGDClassifier(alpha=0.0001,\n",
      "                                                                      average=False,\n",
      "                                                                      class_weight='balanced',\n",
      "                                                                      early_stopping=False,\n",
      "                                                                      epsilon=0.1,\n",
      "                                                                      eta0=10,\n",
      "                                                                      fit_intercept=True,\n",
      "                                                                      l1_ratio=0.15,\n",
      "                                                                      learning_rate='adaptive',\n",
      "                                                                      loss='log',\n",
      "                                                                      max_iter=1000,\n",
      "                                                                      n_iter_no_change=5,\n",
      "                                                                      n_jobs=None,\n",
      "                                                                      penalty='l1',\n",
      "                                                                      power_t=0.5,\n",
      "                                                                      random_state=None,\n",
      "                                                                      shuffle=Tr...\n",
      "                                         max_features=1.0, max_samples=1.0,\n",
      "                                         n_estimators=10, n_jobs=None,\n",
      "                                         oob_score=False, random_state=None,\n",
      "                                         verbose=0, warm_start=False),\n",
      "             iid='deprecated', n_jobs=None,\n",
      "             param_grid={'bootstrap': [True, False],\n",
      "                         'bootstrap_features': [True, False],\n",
      "                         'max_features': [1, 2, 4], 'max_samples': [0.5, 1.0]},\n",
      "             pre_dispatch='2*n_jobs', refit=True, return_train_score=False,\n",
      "             scoring='recall_macro', verbose=0)\n",
      "BaggingClassifier Cross Validation Score (recall_macro): 43.53%\n",
      "Best Params: \n",
      "\n",
      "{'bootstrap': True, 'bootstrap_features': True, 'max_features': 4, 'max_samples': 0.5}\n"
     ]
    }
   ],
   "source": [
    "if HYPER_TUNING == True:\n",
    "\n",
    "    for name, clf in classifiers.items():\n",
    "\n",
    "        param = param_space[name]\n",
    "        print(\"\\n\\nPerforming GridSearchCV on %s...\" % name)\n",
    "        clf = GridSearchCV(classifiers[name], param, cv=5, scoring=metric )\n",
    "\n",
    "        clf.fit(X_train, y_train)\n",
    "        best_classifiers[name] = clf\n",
    "\n",
    "        score = cross_val_score(clf, X_train, y_train, cv=10)\n",
    "        print(best_classifiers[name])\n",
    "        print(\"%s Cross Validation Score (%s): %.2f%%\" % (name, metric, 100*score.mean()))\n",
    "\n",
    "        print(\"Best Params: \\n\")\n",
    "        print(best_classifiers[name].best_params_)"
   ]
  },
  {
   "cell_type": "code",
   "execution_count": 114,
   "metadata": {},
   "outputs": [],
   "source": [
    "from sklearn.model_selection import cross_val_predict\n",
    "from sklearn.metrics import f1_score\n",
    "\n",
    "if HYPER_TUNING == True:\n",
    "\n",
    "    best_classifier_pred = {}\n",
    "    for name in classifiers:\n",
    "        pred = cross_val_predict(best_classifiers[name], X_train, y_train, cv=10)\n",
    "        best_classifier_pred[name] = pred\n",
    "\n",
    "    best_classifier_pred['true'] = y_train\n",
    "    df_best_pred = pd.DataFrame(best_classifier_pred)"
   ]
  },
  {
   "cell_type": "markdown",
   "metadata": {},
   "source": [
    "## 1.6 Grading"
   ]
  },
  {
   "cell_type": "code",
   "execution_count": 66,
   "metadata": {},
   "outputs": [],
   "source": [
    "df.to_csv(\"data/test.csv\", index=False)"
   ]
  },
  {
   "cell_type": "code",
   "execution_count": 18,
   "metadata": {},
   "outputs": [
    {
     "data": {
      "text/plain": [
       "(100000, 193)"
      ]
     },
     "execution_count": 18,
     "metadata": {},
     "output_type": "execute_result"
    }
   ],
   "source": [
    "df_grading = pd.read_csv(f\"data/grading.csv\", dtype=str)\n",
    "df_grading.shape"
   ]
  },
  {
   "cell_type": "code",
   "execution_count": 19,
   "metadata": {},
   "outputs": [
    {
     "data": {
      "text/plain": [
       "(100000, 202)"
      ]
     },
     "execution_count": 19,
     "metadata": {},
     "output_type": "execute_result"
    }
   ],
   "source": [
    "df_grading = pd.merge(df_grading, df_facility, on=\"THCIC_ID\", how=\"left\")\n",
    "df_grading.shape"
   ]
  },
  {
   "cell_type": "code",
   "execution_count": 20,
   "metadata": {},
   "outputs": [],
   "source": [
    "df_grading[\"FAC_UNKNOWN\"] = df_grading.FAC_OTHER_LTC_IND.isnull().astype(int)\n",
    "\n",
    "for c in df.columns:\n",
    "    if c [:3]==\"FAC\":\n",
    "        df_grading[c].fillna(0, inplace=True)"
   ]
  },
  {
   "cell_type": "markdown",
   "metadata": {},
   "source": [
    "### 1.6.1. Encoding `df_grading`"
   ]
  },
  {
   "cell_type": "code",
   "execution_count": 117,
   "metadata": {},
   "outputs": [
    {
     "name": "stdout",
     "output_type": "stream",
     "text": [
      "Feture TYPE_OF_ADMISSION -> ['2' '1' '3' '4' '5' '9']\n",
      "Feture SOURCE_OF_ADMISSION -> ['1' '2' '5' '6' 'D' '4' '8' '9' '0']\n",
      "Feture PAT_STATE -> ['TX' 'ZZ' 'XX']\n",
      "Feture SEX_CODE -> ['F' 'M' 'U']\n",
      "Feture RACE -> ['4' '5' '3' '2' '1']\n",
      "Feture ETHNICITY -> ['1' '2' '3']\n"
     ]
    }
   ],
   "source": [
    "my_lib.clean_categories(df_grading)"
   ]
  },
  {
   "cell_type": "code",
   "execution_count": 118,
   "metadata": {},
   "outputs": [],
   "source": [
    "df_X_train_model, df_X_test_model = encode_features(df_X_train, df_grading, cat_LabelBinarize)"
   ]
  },
  {
   "cell_type": "markdown",
   "metadata": {},
   "source": [
    "### 1.6.2. Make Predictions"
   ]
  },
  {
   "cell_type": "code",
   "execution_count": 119,
   "metadata": {},
   "outputs": [],
   "source": [
    "model = \"ExtraTreeClassifier\"\n",
    "df_grading['TARGET'] = classifiers[model].fit(df_X_train_model, y_train).predict(df_X_test_model)\n",
    "df_grading['TARGET'] = df_grading['TARGET'].map(target_labels)"
   ]
  },
  {
   "cell_type": "markdown",
   "metadata": {},
   "source": [
    "### 1.6.3. Save Predictions"
   ]
  },
  {
   "cell_type": "code",
   "execution_count": 120,
   "metadata": {},
   "outputs": [],
   "source": [
    "df_grading.loc[:, [\"RECORD_ID\", \"TARGET\"]].to_csv(\"df_grading_pred.csv\", index=False)"
   ]
  },
  {
   "cell_type": "markdown",
   "metadata": {},
   "source": [
    "### 1.6.4. Generate Archive"
   ]
  },
  {
   "cell_type": "code",
   "execution_count": 121,
   "metadata": {},
   "outputs": [
    {
     "name": "stdout",
     "output_type": "stream",
     "text": [
      "Creating archive: my_assignment.zip\n",
      "\t01-Import.ipynb - OK\n",
      "\t02-EDA.ipynb - OK\n",
      "\t03-Model.ipynb - OK\n",
      "\tmy_lib.py - OK\n",
      "\tdf_grading_pred.csv - OK\n"
     ]
    }
   ],
   "source": [
    "my_lib.make_assignment()"
   ]
  },
  {
   "cell_type": "code",
   "execution_count": null,
   "metadata": {},
   "outputs": [],
   "source": []
  }
 ],
 "metadata": {
  "kernelspec": {
   "display_name": "Python 3",
   "language": "python",
   "name": "python3"
  },
  "language_info": {
   "codemirror_mode": {
    "name": "ipython",
    "version": 3
   },
   "file_extension": ".py",
   "mimetype": "text/x-python",
   "name": "python",
   "nbconvert_exporter": "python",
   "pygments_lexer": "ipython3",
   "version": "3.6.8"
  }
 },
 "nbformat": 4,
 "nbformat_minor": 4
}
